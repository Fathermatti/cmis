{
 "cells": [
  {
   "cell_type": "markdown",
   "metadata": {},
   "source": [
    "### Computational Methods in Simulation (CMIS) Week 4\n",
    "This notebook is intended to help students make their hand-in in this week of CMIS.\n",
    "\n",
    "Hand-ins must be submitted as a maximum 3 page pdf file in Absalon and must be made using the ACM TOG overleaf latex template\n",
    "\n",
    "https://www.overleaf.com/latex/templates/association-for-computing-machinery-acm-large-2-column-format-template/qwcgpbmkkvpq\n",
    "\n",
    "Notebooks must be uploaded as well so teachers have code solutions accessible if needed."
   ]
  },
  {
   "cell_type": "markdown",
   "metadata": {},
   "source": [
    "This week is based on Slides 19\n",
    "\n",
    "* 1D Poisson Problem\n",
    "    * Make an implementation of the 1D example. Use the values $x_1 = 1$, $x_n = 2$, $\\Delta x = 0.1$, $a = 1$, $b = 2$, $c = 0$.\n",
    "    * Start by making a sketch on paper showing how you expect $y(x)$ to look like.\n",
    "    * Discuss which parts of the algorithm that is embarrassingly parallel. \n",
    "    * If you have extra time consider rewriting the parts that have race conditions to become embarrassingly parallel.\n",
    "    * Consider using an iterative method (like Conjugate Gradient) for solving the reduced system, can you suggest any optimizations? (Hint: do not actually assemble the global matrix)\n",
    "\n",
    "\n",
    "* 2D Poisson Problem\n",
    "    * Derive the formula for $K_e$ and $f_e$ in full detail for the 2D example.\n",
    "    * Make an implementation of the 2D example on a rectangular domain that is 6-by-2 in size.\n",
    "    * Set $a = 1$ on the left edge of the rectangle and $a = 2$ on the right size.\n",
    "    * Use $c = 0$\n",
    "    * Treat boundary conditions as point wise conditions\n",
    "    * Discuss from a computer scientist viewpoint which steps are the same and which steps that are different compared to the 1D example."
   ]
  },
  {
   "cell_type": "markdown",
   "metadata": {},
   "source": [
    "## Detailed Expected Learning Objectives in this Week\n",
    "\n",
    "* Finite Element Method (FEM) Part 1 (Slides 19)\n",
    "    * Explain the steps of the FEM method.\n",
    "    * Account for terminology such as test and shape/basis functions.\n",
    "    * Explain how linear shape functions are applied in Galerkin FEM.\n",
    "    * Apply the steps of FEM method from simple 1D and 2D problems like Heat diffusion.\n",
    "    * Apply experimental verification to ones implementation of a FEM."
   ]
  },
  {
   "cell_type": "code",
   "execution_count": 1,
   "metadata": {},
   "outputs": [],
   "source": [
    "%matplotlib widget"
   ]
  },
  {
   "cell_type": "code",
   "execution_count": 2,
   "metadata": {},
   "outputs": [],
   "source": [
    "import igl\n",
    "import meshplot as mp\n",
    "import numpy as np\n",
    "import matplotlib.pyplot as plt"
   ]
  },
  {
   "cell_type": "markdown",
   "metadata": {},
   "source": [
    "# The 1D Poisson Problem solved with Linear Finite Element Method\n",
    "\n",
    "We first compute an array Ke of local elementwise values. Aftewards we assemble the local values into a global martix and vector. First we ignore boundary conditions and simply just fill in values. We expect to have one-zero eigenvalue of this type of problem as we have not yet added boundary conditions. Due to precision and round-off errors the numerical computed eigenvalues may not be exactly zero but close to machine epsilon."
   ]
  },
  {
   "cell_type": "code",
   "execution_count": 3,
   "metadata": {},
   "outputs": [],
   "source": [
    "dx = 0.1\n",
    "x  = np.linspace(1.0, 2.0, 10)\n",
    "N  = len(x)\n",
    "Ke = np.zeros((2,(N-1)*2),dtype=np.float64)  \n",
    "K  = np.zeros((N,N),dtype=np.float64)\n",
    "f  = np.zeros((N,),dtype=np.float64)\n",
    "\n",
    "for e in range(N-1):\n",
    "    i = e\n",
    "    j = i+1\n",
    "    \n",
    "    d = 1 / dx\n",
    "    c = -1 / dx\n",
    "    \n",
    "    Ke[0, e * 2] = d\n",
    "    Ke[0, e * 2 + 1] = c\n",
    "    Ke[1, e * 2] = c\n",
    "    Ke[1, e * 2 + 1] = d\n",
    "    # TODO - compute Ke\n",
    "\n",
    "for e in range(N-1):\n",
    "    i = e\n",
    "    j = i+1\n",
    "    \n",
    "    K[i, i] = K[i, i] + Ke[0, e * 2] \n",
    "    K[i, j] = K[i, j] + Ke[0, e * 2 + 1] \n",
    "    K[j, i] = K[j, i] + Ke[1, e * 2] \n",
    "    K[j, j] = K[j, j] + Ke[1, e * 2 + 1] \n",
    "    # TODO - Assemble Ke into global K\n",
    "    "
   ]
  },
  {
   "cell_type": "markdown",
   "metadata": {},
   "source": [
    "Before doing more we want to verify if the assembly process was done correctly. We do this by studying the matrix fill pattern and the eigenvalue spectrum. "
   ]
  },
  {
   "cell_type": "code",
   "execution_count": 4,
   "metadata": {},
   "outputs": [
    {
     "data": {
      "application/vnd.jupyter.widget-view+json": {
       "model_id": "55f5c782293a444aaf377069d3f4e3a2",
       "version_major": 2,
       "version_minor": 0
      },
      "text/plain": [
       "Canvas(toolbar=Toolbar(toolitems=[('Home', 'Reset original view', 'home', 'home'), ('Back', 'Back to previous …"
      ]
     },
     "metadata": {},
     "output_type": "display_data"
    },
    {
     "data": {
      "application/vnd.jupyter.widget-view+json": {
       "model_id": "c186566a1ea54a5683dd976fa0b57d05",
       "version_major": 2,
       "version_minor": 0
      },
      "text/plain": [
       "Canvas(toolbar=Toolbar(toolitems=[('Home', 'Reset original view', 'home', 'home'), ('Back', 'Back to previous …"
      ]
     },
     "metadata": {},
     "output_type": "display_data"
    }
   ],
   "source": [
    "fig = plt.figure()\n",
    "ax = plt.subplot(111)\n",
    "plt.spy(K);\n",
    "ax.set_title('Fill pattern of matrix');\n",
    "ax.set_ylabel('Row index');\n",
    "ax.set_xlabel('Column index');\n",
    "plt.show()\n",
    "\n",
    "fig = plt.figure()\n",
    "d, _ = np.linalg.eig(K)\n",
    "plt.plot(np.sort( d ) );\n",
    "ax.set_title('Eigenvalues of matrix');\n",
    "ax.set_xlabel('Eigenvalue Index')\n",
    "ax.set_ylabel('Value');\n",
    "plt.show()"
   ]
  },
  {
   "cell_type": "markdown",
   "metadata": {},
   "source": [
    "After we have verified the assembly was done correctly we can apply boundary conditions. After we have added the boundary conditions we have reduced the number of variables to solve for."
   ]
  },
  {
   "cell_type": "code",
   "execution_count": 5,
   "metadata": {},
   "outputs": [],
   "source": [
    "a = 1;\n",
    "b = 2;\n",
    "\n",
    "indices = np.array([0, N-1],dtype=np.int)\n",
    "values  = np.array([a, b],dtype=np.float64)\n",
    "\n",
    "F = np.setdiff1d(np.arange(N), indices)\n",
    "\n",
    "for i in range(len(indices)):\n",
    "    index = indices[i]\n",
    "    value = values[i]  \n",
    "  \n",
    "    for j in range(0, N):\n",
    "        if j != index:\n",
    "            f[j] = f[j] - K[j, index] * value\n",
    "            K[j, index] = 0\n",
    "        \n",
    "    upper = np.zeros((1, N))\n",
    "    upper[0, index] = 1\n",
    "    \n",
    "    K[index, :] = upper\n",
    "    f[index] = value\n",
    "    # TODO - Implement modifications for adding boundary conditions\n",
    "\n",
    "y = np.zeros(f.shape, dtype=np.float64)\n",
    "\n",
    "y[indices] = values\n",
    "\n",
    "KFF = K[F,:][:,F]\n",
    "fF  = f[F]\n",
    "\n",
    "y[F] = np.linalg.solve(KFF, fF)"
   ]
  },
  {
   "cell_type": "markdown",
   "metadata": {},
   "source": [
    "We can now plot the solution. We expect a straight line going from a-value to b-value."
   ]
  },
  {
   "cell_type": "code",
   "execution_count": 6,
   "metadata": {},
   "outputs": [
    {
     "data": {
      "image/png": "[encoded data removed]",
      "text/plain": [
       "<Figure size 432x288 with 1 Axes>"
      ]
     },
     "metadata": {
      "needs_background": "light"
     },
     "output_type": "display_data"
    }
   ],
   "source": [
    "%matplotlib inline\n",
    "fig = plt.figure(3)\n",
    "ax = plt.subplot(111)\n",
    "plt.plot(x,y,'b')\n",
    "ax.set_title('The approximate solution')\n",
    "ax.set_xlabel('x')\n",
    "ax.set_ylabel('y')\n",
    "plt.show()"
   ]
  },
  {
   "cell_type": "code",
   "execution_count": 7,
   "metadata": {},
   "outputs": [
    {
     "data": {
      "image/png": "[encoded data removed]",
      "text/plain": [
       "<Figure size 432x288 with 1 Axes>"
      ]
     },
     "metadata": {
      "needs_background": "light"
     },
     "output_type": "display_data"
    },
    {
     "name": "stdout",
     "output_type": "stream",
     "text": [
      "1.2079432611196743e-30\n"
     ]
    }
   ],
   "source": [
    "# IMPLEMENTATION FOUND AT: https://gist.github.com/glederrey/7fe6e03bbc85c81ed60f3585eea2e073\n",
    "def conjgrad(A, b, x):\n",
    "    \"\"\"\n",
    "    A function to solve [A]{x} = {b} linear equation system with the \n",
    "    conjugate gradient method.\n",
    "    More at: http://en.wikipedia.org/wiki/Conjugate_gradient_method\n",
    "    ========== Parameters ==========\n",
    "    A : matrix \n",
    "        A real symmetric positive definite matrix.\n",
    "    b : vector\n",
    "        The right hand side (RHS) vector of the system.\n",
    "    x : vector\n",
    "        The starting guess for the solution.\n",
    "    \"\"\"  \n",
    "    r = b - np.dot(A, x)\n",
    "    p = r\n",
    "    rsold = np.dot(np.transpose(r), r)\n",
    "    \n",
    "    for i in range(len(b)):\n",
    "        Ap = np.dot(A, p)\n",
    "        alpha = rsold / np.dot(np.transpose(p), Ap)\n",
    "        x = x + np.dot(alpha, p)\n",
    "        r = r - np.dot(alpha, Ap)\n",
    "        rsnew = np.dot(np.transpose(r), r)\n",
    "        if np.sqrt(rsnew) < 1e-8:\n",
    "            break\n",
    "        p = r + (rsnew/rsold)*p\n",
    "        rsold = rsnew\n",
    "    return x\n",
    "\n",
    "y_conj = np.zeros(f.shape, dtype=np.float64)\n",
    "\n",
    "y_conj[indices] = values\n",
    "\n",
    "y_conj[F] = conjgrad(KFF, fF, np.zeros((fF.shape)))\n",
    "\n",
    "%matplotlib inline\n",
    "fig = plt.figure(3)\n",
    "ax = plt.subplot(111)\n",
    "plt.plot(x, y_conj, 'b')\n",
    "ax.set_title('The approximate solution')\n",
    "ax.set_xlabel('x')\n",
    "ax.set_ylabel('y')\n",
    "plt.show()\n",
    "\n",
    "import math\n",
    "\n",
    "diff = y - y_conj\n",
    "sq = np.square(diff)\n",
    "print(sq.mean(axis=0))"
   ]
  },
  {
   "cell_type": "markdown",
   "metadata": {},
   "source": [
    "# The 2D Poisson Problem solved with linear Finite Element Method\n",
    "The 2D Poisson problem procedes in nearly the same way excpet that having both x and y coordinates increases the dimensionality slightly.\n",
    "\n",
    "We will reuse the beam mesh generator from week 3 to create a computational mesh for the 2D problem"
   ]
  },
  {
   "cell_type": "code",
   "execution_count": 8,
   "metadata": {},
   "outputs": [],
   "source": [
    "def make_beam_mesh(width, height, shape):\n",
    "    x0 = -width/2.0\n",
    "    y0 = -height/2.0\n",
    "    I  = shape[0]\n",
    "    J  = shape[1]\n",
    "    dx = width/float(I)\n",
    "    dy = height/float(J)\n",
    "    V = np.zeros(((I+1)*(J+1),2),dtype=np.float64)\n",
    "    for j in range(J+1):\n",
    "        for i in range(I+1):\n",
    "            k = i + j*(I+1)\n",
    "            V[k,0] = x0 + i*dx\n",
    "            V[k,1] = y0 + j*dy\n",
    "    T = np.zeros((2*I*J,3),dtype=np.int32)\n",
    "    for j in range(J):\n",
    "        for i in range(I):\n",
    "            k00 = (i  ) + (j  )*(I+1)\n",
    "            k01 = (i+1) + (j  )*(I+1)\n",
    "            k10 = (i  ) + (j+1)*(I+1)\n",
    "            k11 = (i+1) + (j+1)*(I+1)\n",
    "            e = 2*(i + j*I)\n",
    "            if (i+j)%2:\n",
    "                T[e,  :] = (k00,k01,k11)\n",
    "                T[e+1,:] = (k00,k11,k10)\n",
    "            else:\n",
    "                T[e,  :] = (k10,k00,k01)\n",
    "                T[e+1,:] = (k10,k01,k11)                    \n",
    "    return V, T\n",
    "\n",
    "V, T = make_beam_mesh(6.0,2.0,(12,6))"
   ]
  },
  {
   "cell_type": "markdown",
   "metadata": {},
   "source": [
    "We will extend with a little auxiliary function that computes the triangle area for each triangle and return a vector with all triangle area values."
   ]
  },
  {
   "cell_type": "code",
   "execution_count": 9,
   "metadata": {},
   "outputs": [],
   "source": [
    "def compute_triangle_areas(V,T):\n",
    "    E = len(T) # Total number of triangles in the mesh\n",
    "    A = np.zeros((E,),dtype=np.float64)\n",
    "    for e in range(E):\n",
    "        # Get triangle indices\n",
    "        i = T[e,0]\n",
    "        j = T[e,1]\n",
    "        k = T[e,2]\n",
    "        # Get triangle coordinates\n",
    "        xi = V[i,0]\n",
    "        xj = V[j,0]\n",
    "        xk = V[k,0]\n",
    "        yi = V[i,1]\n",
    "        yj = V[j,1]\n",
    "        yk = V[k,1]    \n",
    "\n",
    "        dx1 = xk - xj\n",
    "        dy1 = yk - yj\n",
    "        dx2 = xi - xj\n",
    "        dy2 = yi - yj\n",
    "\n",
    "        A[e] =  (dx1*dy2 - dx2*dy1 ) / 2.0\n",
    "    return A\n",
    "\n",
    "A = compute_triangle_areas(V,T)"
   ]
  },
  {
   "cell_type": "markdown",
   "metadata": {},
   "source": [
    "We now have all pieces in place and can start on compute the local element values followed by our assembly process."
   ]
  },
  {
   "cell_type": "code",
   "execution_count": 22,
   "metadata": {},
   "outputs": [],
   "source": [
    "N = len(V) # Total number of nodes in the mesh\n",
    "E = len(T) # Total number of triangles in the mesh\n",
    "\n",
    "Ke = np.zeros((3,E*3),dtype=np.float64)\n",
    "K  = np.zeros((N,N),dtype=np.float64) \n",
    "f  = np.zeros((N,),dtype=np.float64) \n",
    "\n",
    "for e in range(E):\n",
    "    # Get triangle indices\n",
    "    i = T[e,0]\n",
    "    j = T[e,1]\n",
    "    k = T[e,2]\n",
    "    \n",
    "    # Get triangle coordinates\n",
    "    xi = V[i,0]\n",
    "    xj = V[j,0]\n",
    "    xk = V[k,0]\n",
    "    yi = V[i,1]\n",
    "    yj = V[j,1]\n",
    "    yk = V[k,1]    \n",
    "    \n",
    "    # TODO - Compute element matrix and store it in Ke array\n",
    "    Nidx = -(yk - yj) / (2 * A[e])\n",
    "    Njdx = -(yi - yk) / (2 * A[e])\n",
    "    Nkdx = -(yj - yi) / (2 * A[e])\n",
    "    \n",
    "    Nidy = (xk - xj) / (2 * A[e])\n",
    "    Njdy = (xi - xk) / (2 * A[e])\n",
    "    Nkdy = (xj - xi) / (2 * A[e])\n",
    "    \n",
    "    Nx = np.array([Nidx, Njdx, Nkdx]).reshape((1, 3))\n",
    "    Ny = np.array([Nidy, Njdy, Nkdy]).reshape((1, 3))\n",
    "    \n",
    "    ke = (np.dot(Nx.T, Nx) + np.dot(Ny.T, Ny)) * A[e]\n",
    "\n",
    "    Ke[ :, (3*e):3*e+3 ] = ke\n",
    "    \n",
    "for e in range(E):\n",
    "    # Get global triangle vertex indices\n",
    "    i = T[e,0]\n",
    "    j = T[e,1]\n",
    "    k = T[e,2]\n",
    "    \n",
    "    # Local order of vertex coordinates is i j and k. \n",
    "    # This is how local vertex indices (0,1,2) are mapped to global vertex\n",
    "    # indices\n",
    "    gidx = [ i, j,  k]\n",
    "    \n",
    "    # TODO - do assembly of Ke into K\n",
    "    sub_ke = Ke[ :, (3*e):3*e+3 ]\n",
    "    \n",
    "    # TODO - do assembly of Ke into K\n",
    "    K[i, i] = K[i, i] + sub_ke[0, 0] \n",
    "    K[i, j] = K[i, j] + sub_ke[1, 0] \n",
    "    K[i, k] = K[i, k] + sub_ke[2, 0]\n",
    "\n",
    "    K[j, i] = K[j, i] + sub_ke[0, 1] \n",
    "    K[j, j] = K[j, j] + sub_ke[1, 1] \n",
    "    K[j, k] = K[j, k] + sub_ke[2, 1]\n",
    "    \n",
    "    K[k, i] = K[k, i] + sub_ke[0, 2] \n",
    "    K[k, j] = K[k, j] + sub_ke[1, 2] \n",
    "    K[k, k] = K[k, k] + sub_ke[2, 2] \n",
    "    \n",
    "    "
   ]
  },
  {
   "cell_type": "markdown",
   "metadata": {},
   "source": [
    "We visually verify the assembly process by observing the expected symmetry pattern. The eigenvalue analysis should this time show that we have 2 zero eigenvalues."
   ]
  },
  {
   "cell_type": "code",
   "execution_count": 15,
   "metadata": {},
   "outputs": [
    {
     "data": {
      "image/png": "[encoded data removed]",
      "text/plain": [
       "<Figure size 432x288 with 1 Axes>"
      ]
     },
     "metadata": {
      "needs_background": "light"
     },
     "output_type": "display_data"
    },
    {
     "data": {
      "image/png": "[encoded data removed]",
      "text/plain": [
       "<Figure size 432x288 with 1 Axes>"
      ]
     },
     "metadata": {
      "needs_background": "light"
     },
     "output_type": "display_data"
    }
   ],
   "source": [
    "fig = plt.figure()\n",
    "ax = plt.subplot(111)\n",
    "plt.spy(K);\n",
    "ax.set_title('Fill pattern of matrix');\n",
    "ax.set_ylabel('Row index');\n",
    "ax.set_xlabel('Column index');\n",
    "plt.show()\n",
    "\n",
    "fig = plt.figure()\n",
    "d, _ = np.linalg.eig(K)\n",
    "plt.plot(np.sort( d ) );\n",
    "ax.set_title('Eigenvalues of matrix');\n",
    "ax.set_xlabel('Eigenvalue Index')\n",
    "ax.set_ylabel('Value');\n",
    "plt.show()"
   ]
  },
  {
   "cell_type": "markdown",
   "metadata": {},
   "source": [
    "We may now proceed as before adding boundary conditions"
   ]
  },
  {
   "cell_type": "code",
   "execution_count": 16,
   "metadata": {},
   "outputs": [],
   "source": [
    "a = 1;\n",
    "b = 2;\n",
    "\n",
    "left = np.array( np.where(V[:,0] < -2.9), dtype=np.int).flatten()\n",
    "right = np.array( np.where(V[:,0] >  2.9), dtype=np.int).flatten()\n",
    "\n",
    "left_values = np.ones( left.shape, dtype=np.float64)*a\n",
    "right_values = np.ones( right.shape, dtype=np.float64)*b\n",
    "\n",
    "indices = np.hstack((left, right))\n",
    "values  = np.hstack((left_values, right_values))\n",
    "\n",
    "F = np.setdiff1d(np.arange(N), indices)\n",
    "\n",
    "for i in range(len(indices)):\n",
    "    index = indices[i]\n",
    "    value = values[i]  \n",
    "  \n",
    "    K[index, : ] = 0\n",
    "    f[F]              = f[F] -  K[ F,:][:,index] * value\n",
    "    K[ :, index ]     = 0\n",
    "    K[ index, index ] = 1\n",
    "    f[ index ]        = value\n",
    "\n",
    "y = np.zeros(f.shape, dtype=np.float64)\n",
    "\n",
    "y[indices] = values\n",
    "\n",
    "KFF = K[F,:][:,F]\n",
    "fF  = f[F]\n",
    "\n",
    "y[F] = np.linalg.solve(KFF, fF)"
   ]
  },
  {
   "cell_type": "markdown",
   "metadata": {},
   "source": [
    "Finally we can visualize the solution that should show a linear ramp from a to b."
   ]
  },
  {
   "cell_type": "code",
   "execution_count": 17,
   "metadata": {},
   "outputs": [
    {
     "data": {
      "image/png": "[encoded data removed]",
      "text/plain": [
       "<Figure size 432x288 with 2 Axes>"
      ]
     },
     "metadata": {
      "needs_background": "light"
     },
     "output_type": "display_data"
    }
   ],
   "source": [
    "fig = plt.figure()\n",
    "\n",
    "plt.tripcolor(V[:,0],V[:,1],T,y)\n",
    "plt.triplot(V[:,0],V[:,1],T)\n",
    "plt.colorbar()\n",
    "plt.show()\n"
   ]
  },
  {
   "cell_type": "markdown",
   "metadata": {},
   "source": [
    "That is all folks"
   ]
  }
 ],
 "metadata": {
  "kernelspec": {
   "display_name": "Python 3",
   "language": "python",
   "name": "python3"
  },
  "language_info": {
   "codemirror_mode": {
    "name": "ipython",
    "version": 3
   },
   "file_extension": ".py",
   "mimetype": "text/x-python",
   "name": "python",
   "nbconvert_exporter": "python",
   "pygments_lexer": "ipython3",
   "version": "3.7.4"
  }
 },
 "nbformat": 4,
 "nbformat_minor": 2
}

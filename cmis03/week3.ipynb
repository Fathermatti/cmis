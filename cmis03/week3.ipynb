{
 "cells": [
  {
   "cell_type": "markdown",
   "metadata": {},
   "source": [
    "# Computational Methods in Simulation (CMIS) Week 3\n",
    "This notebook is intended to help students make their hand-in in this week of CMIS.\n",
    "\n",
    "\n",
    "Hand-ins must be submitted as a maximum 3 page pdf file in Absalon and must be made using the ACM TOG overleaf latex template\n",
    "\n",
    "https://www.overleaf.com/latex/templates/association-for-computing-machinery-acm-large-2-column-format-template/qwcgpbmkkvpq\n",
    "\n",
    "Notebooks must be uploaded as well so teachers have code solutions accessible if needed."
   ]
  },
  {
   "cell_type": "markdown",
   "metadata": {},
   "source": [
    "This week is based on Slides 6\n",
    "\n",
    "* Explain how a mesh is represented and create a function that can generate a 2D traingle mesh for a beam (large rectangle) shape\n",
    "* Apply a third-party meshing tool such as tetgen, wildmeshing or similar to a simple 2D case.\n",
    "* Apply a 3D meshing tool such as TetGen or wildmeshing or similar to a 3D surface mesh such as 'armadillo.obj'\n",
    "* Identify two or more quality measures from the Shewchuck paper that you believe will be good measures for a linear tetrahedral mesh. Explain pros and cons of your choosen measures (Hint: We provide functions for computing inscribed/circumscriped spheres as well as signed volume).\n",
    "* Implement the chosen quality measures and create a tool for plotting quality historgrams.\n",
    "* Compute your chosen quality measures for the 3D volume mesh you generate and display histograms of them. Discuss the histograms, what do they tell you about the mesh you generated?\n",
    "* Implement the marching triangle method (as described in Slides 6) and identify \"bad\" or \"wrong\" triangles created by the method. Discuss the cause of these cases and if time permit develop an improved version of the method (Hint: reuse your signed distance field code from Week 2).  \n"
   ]
  },
  {
   "cell_type": "markdown",
   "metadata": {},
   "source": [
    "## Detailed Expected Learning Objectives in this Week\n",
    "\n",
    "* Computational Meshing (Slides 6)\n",
    "    * Explain common mesh quality measures.\n",
    "    * Implement a simple computational mesh generator.\n",
    "    * Generate computational quality meshes using 3rd party software such as DistMesh, TetGen or similar.\n",
    "    * Experimentally evaluate whether a given computational mesh is a quality mesh."
   ]
  },
  {
   "cell_type": "markdown",
   "metadata": {},
   "source": [
    "## Mesh Representations\n",
    "\n",
    "In this work we use the face-indexed array representation for storing a unstructured mesh. That is a triangle mesh. One may find a short description of mesh descriptions from the libigl library\n",
    "\n",
    "https://libigl.github.io/libigl-python-bindings/tutorials/\n",
    "\n",
    "For our 3D meshing examples we may make use of TetGen as bundled in libigl\n",
    "\n",
    "https://libigl.github.io/libigl-python-bindings/igl_docs/#tetrahedralize\n",
    "\n",
    "and we make use of the the wildmeshing library for both 3D and 2D meshing\n",
    "\n",
    "https://wildmeshing.github.io/wildmeshing-notebook/\n",
    "\n",
    "We also provide two of our own primitive 2D meshing methods."
   ]
  },
  {
   "cell_type": "code",
   "execution_count": 2,
   "metadata": {},
   "outputs": [],
   "source": [
    "%matplotlib widget"
   ]
  },
  {
   "cell_type": "code",
   "execution_count": 3,
   "metadata": {},
   "outputs": [],
   "source": [
    "import igl as igl\n",
    "import meshplot as mp\n",
    "import numpy as np\n",
    "import wildmeshing as wm\n",
    "import matplotlib.pyplot as plt"
   ]
  },
  {
   "cell_type": "markdown",
   "metadata": {},
   "source": [
    "For starters we will show an example of how to directly generate a beam mesh.\n",
    "\n",
    "The idea is to make the beam on a regular back ground grid. In a first sweep over grid nodes we create the vertices of the beam mesh. In a second sweep over the cells of the regular grid we will create triangles. \n",
    "\n",
    "To avoid having any bias from mesh connectivity we choose to flip the diagonals of the grid cells. This way we get a very homogenous looking triangle mesh with similar shaped triangles that are close to being equilateral."
   ]
  },
  {
   "cell_type": "code",
   "execution_count": 3,
   "metadata": {},
   "outputs": [
    {
     "data": {
      "application/vnd.jupyter.widget-view+json": {
       "model_id": "02e0b7a7ab564d39a1cf1df0fcbcc92c",
       "version_major": 2,
       "version_minor": 0
      },
      "text/plain": [
       "Renderer(camera=PerspectiveCamera(children=(DirectionalLight(color='white', intensity=0.6, position=(0.0, 0.0,…"
      ]
     },
     "metadata": {},
     "output_type": "display_data"
    }
   ],
   "source": [
    "def make_beam_mesh(width, height, shape):\n",
    "    x0 = -width/2.0\n",
    "    y0 = -height/2.0\n",
    "    I  = shape[0]\n",
    "    J  = shape[1]\n",
    "    dx = width/float(I)\n",
    "    dy = height/float(J)\n",
    "    V = np.zeros(((I+1)*(J+1),2),dtype=np.float64)\n",
    "    for j in range(J+1):\n",
    "        for i in range(I+1):\n",
    "            k = i + j*(I+1)\n",
    "            V[k,0] = x0 + i*dx\n",
    "            V[k,1] = y0 + j*dy\n",
    "    T = np.zeros((2*I*J,3),dtype=np.int32)\n",
    "    for j in range(J):\n",
    "        for i in range(I):\n",
    "            k00 = (i  ) + (j  )*(I+1)\n",
    "            k01 = (i+1) + (j  )*(I+1)\n",
    "            k10 = (i  ) + (j+1)*(I+1)\n",
    "            k11 = (i+1) + (j+1)*(I+1)\n",
    "            e = 2*(i + j*I)\n",
    "            if (i+j)%2:\n",
    "                T[e,  :] = (k00,k01,k11)\n",
    "                T[e+1,:] = (k00,k11,k10)\n",
    "            else:\n",
    "                T[e,  :] = (k10,k00,k01)\n",
    "                T[e+1,:] = (k10,k01,k11)                    \n",
    "    return V, T\n",
    "\n",
    "V, T = make_beam_mesh(2.0,1.0,(12,6))\n",
    "\n",
    "p = mp.plot(V, T, return_plot=True, shading={\"wireframe\": True})\n"
   ]
  },
  {
   "cell_type": "markdown",
   "metadata": {},
   "source": [
    "Next we will show an example using the wildmeshing library to generate a triangle mesh from a polygon boundary. "
   ]
  },
  {
   "cell_type": "code",
   "execution_count": 4,
   "metadata": {},
   "outputs": [
    {
     "data": {
      "application/vnd.jupyter.widget-view+json": {
       "model_id": "ffd978efbc3d467d971c8d164daa3f50",
       "version_major": 2,
       "version_minor": 0
      },
      "text/plain": [
       "Renderer(camera=PerspectiveCamera(children=(DirectionalLight(color='white', intensity=0.6, position=(0.0, 0.0,…"
      ]
     },
     "metadata": {},
     "output_type": "display_data"
    }
   ],
   "source": [
    "# Documentation is here https://wildmeshing.github.io/wildmeshing-notebook/\n",
    "def make_circle_mesh(radius, segments):\n",
    "    K = segments\n",
    "    X = np.array([ radius*np.cos(2*np.pi*k/K) for k in range(K)])\n",
    "    Y = np.array([ radius*np.sin(2*np.pi*k/K) for k in range(K)])\n",
    "    P = np.zeros((K,2))\n",
    "    P[:,0] = X\n",
    "    P[:,1] = Y\n",
    "    L = np.array([(k,(k+1)%K) for k in range(K)],dtype=np.int32)\n",
    "    \n",
    "    V, T, _, _ = wm.triangulate_data(P, L, cut_outside=True)\n",
    "    return (V, T)\n",
    "\n",
    "V, T = make_circle_mesh(0.75, 36)\n",
    "p = mp.plot(V, T, return_plot=True, shading={\"wireframe\": True})"
   ]
  },
  {
   "cell_type": "markdown",
   "metadata": {},
   "source": [
    "# Quality Measures\n",
    "\n",
    "We have identified 4 quality measures for linear tetrahedral meshes. We implement simple functions that given one element can compute its quality measure.\n",
    "\n",
    "For computing quality measures it is helpful to be able to compute the signed volume of a tetrahedron, test if is left oriented, circumscribed and inscriped spheres."
   ]
  },
  {
   "cell_type": "code",
   "execution_count": 70,
   "metadata": {},
   "outputs": [],
   "source": [
    "def compute_signed_volume(pi, pj, pk, pm):\n",
    "    return np.dot((pm - pi), np.cross((pj - pi), (pk - pi))) / 6.0\n",
    "\n",
    "\n",
    "def is_left_orientation(pi, pj, pk, pm):\n",
    "    return compute_signed_volume(pi, pj, pk, pm) < 0.0\n",
    "\n",
    "\n",
    "def compute_circumscribed_sphere(p0, p1, p2, p3):\n",
    "    A = p0 - p3\n",
    "    B = p1 - p3\n",
    "    C = p2 - p3\n",
    "\n",
    "    M00 = np.dot(A, A)\n",
    "    M01 = np.dot(A, B)\n",
    "    M02 = np.dot(A, C)\n",
    "    M10 = np.dot(B, A)\n",
    "    M11 = np.dot(B, B)\n",
    "    M12 = np.dot(B, C)\n",
    "    M20 = np.dot(C, A)\n",
    "    M21 = np.dot(C, B)\n",
    "    M22 = np.dot(C, C)\n",
    "\n",
    "    M = np.array([[M00, M01, M02], [M10, M11, M12], [M20, M21, M22]], dtype=np.float64)\n",
    "    q = 0.5 * np.array([M00, M11, M22], dtype=np.float64)\n",
    "    \n",
    "    u = np.linalg.lstsq(M, q, rcond=None)[0]\n",
    "\n",
    "    u0 = u[0]\n",
    "    u1 = u[1]\n",
    "    u2 = u[2]\n",
    "    u3 = 1.0 - u0 - u1 - u2\n",
    "\n",
    "    radius = np.linalg.norm(u0 * A + u1 * B + u2 * C)\n",
    "    center = u0 * p0 + u1 * p1 + u2 * p2 + u3 * p3\n",
    "\n",
    "    return center, radius\n",
    "\n",
    "\n",
    "def compute_inscribed_sphere(pi, pj, pk, pm):\n",
    "    nm = np.cross((pj - pi), (pk - pi))\n",
    "    ni = np.cross((pm - pj), (pk - pj))\n",
    "    nj = np.cross((pm - pk), (pi - pk))\n",
    "    nk = np.cross((pm - pi), (pj - pi))\n",
    "    Lnm = np.linalg.norm(nm)\n",
    "    Lni = np.linalg.norm(ni)\n",
    "    Lnj = np.linalg.norm(nj)\n",
    "    Lnk = np.linalg.norm(nk)\n",
    "    nm = nm / Lnm\n",
    "    ni = ni / Lni\n",
    "    nj = nj / Lnj\n",
    "    nk = nk / Lnk\n",
    "\n",
    "    wm = np.dot(nm, pi)\n",
    "    wi = np.dot(ni, pj)\n",
    "    wj = np.dot(nj, pk)\n",
    "    wk = np.dot(nk, pi)\n",
    "\n",
    "    M00 = nm[0]\n",
    "    M01 = nm[1]\n",
    "    M02 = nm[2]\n",
    "    M03 = -1.0\n",
    "\n",
    "    M10 = ni[0]\n",
    "    M11 = ni[1]\n",
    "    M12 = ni[2]\n",
    "    M13 = -1.0\n",
    "\n",
    "    M20 = nj[0]\n",
    "    M21 = nj[1]\n",
    "    M22 = nj[2]\n",
    "    M23 = -1.0\n",
    "\n",
    "    M30 = nk[0]\n",
    "    M31 = nk[1]\n",
    "    M32 = nk[2]\n",
    "    M33 = -1.0\n",
    "\n",
    "    A = np.array([[M00, M01, M02, M03], [M10, M11, M12, M13], [M20, M21, M22, M23], [M30, M31, M32, M33]],\n",
    "                 dtype=np.float64)\n",
    "    b = np.array([wm, wi, wj, wk], dtype=np.float64)\n",
    "\n",
    "    x = np.linalg.lstsq(A, b, rcond=None)[0]\n",
    "\n",
    "    center = np.array( [x[0], x[1], x[2]], dtype=np.float64)\n",
    "    radius = x[3]\n",
    "\n",
    "    return center, radius"
   ]
  },
  {
   "cell_type": "markdown",
   "metadata": {},
   "source": [
    "Now we may implement our quality measures using these basic geometry functions"
   ]
  },
  {
   "cell_type": "code",
   "execution_count": 76,
   "metadata": {},
   "outputs": [],
   "source": [
    "def compute_quality_nonsmooth_rms(pi, pj, pk, pm):\n",
    "    V = compute_signed_volume(pi, pj, pk, pm)\n",
    "    \n",
    "    Lij = np.linalg.norm(pi - pj) \n",
    "    Lik = np.linalg.norm(pi - pk)\n",
    "    Lim = np.linalg.norm(pi - pm)\n",
    "    Ljk = np.linalg.norm(pj - pk)\n",
    "    Ljm = np.linalg.norm(pj - pm)\n",
    "    Lkm = np.linalg.norm(pk - pm)\n",
    "    l_sum = Lij + Lik + Lim + Ljk + Ljm + Lkm\n",
    "    l_rms = np.sqrt(l_sum / 6.0) ** 3\n",
    "    \n",
    "    const = 6 * np.sqrt(2)\n",
    "    return const * (V / l_rms)\n",
    "\n",
    "     \n",
    "def compute_quality_nonsmooth_max(pi, pj, pk, pm):\n",
    "    V = compute_signed_volume(pi, pj, pk, pm)\n",
    "    \n",
    "    Lij = np.linalg.norm(pi - pj) \n",
    "    Lik = np.linalg.norm(pi - pk)\n",
    "    Lim = np.linalg.norm(pi - pm)\n",
    "    Ljk = np.linalg.norm(pj - pk)\n",
    "    Ljm = np.linalg.norm(pj - pm)\n",
    "    Lkm = np.linalg.norm(pk - pm)\n",
    "    L_max = max(Lij, Lik, Lim, Ljk, Ljm, Lkm) ** 3\n",
    "    \n",
    "    const = 6 * np.sqrt(2)\n",
    "    return const * (V / L_max)\n",
    "\n",
    "\n",
    "def compute_quality_knupp(pi, pj, pk, pm):\n",
    "    V = compute_signed_volume(pi, pj, pk, pm)\n",
    "    \n",
    "    Lij = np.linalg.norm(pi - pj) ** 2 \n",
    "    Lik = np.linalg.norm(pi - pk) ** 2\n",
    "    Lim = np.linalg.norm(pi - pm) ** 2\n",
    "    Ljk = np.linalg.norm(pj - pk) ** 2\n",
    "    Ljm = np.linalg.norm(pj - pm) ** 2\n",
    "    Lkm = np.linalg.norm(pk - pm) ** 2\n",
    "    \n",
    "    l_sum = Lij + Lik + Lim + Ljk + Ljm + Lkm\n",
    "    l_rms = np.sqrt(l_sum / 6.0) \n",
    "    \n",
    "    Ai = np.linalg.norm(np.cross((pj - pk), (pk - pm))) / 2 \n",
    "    Aj = np.linalg.norm(np.cross((pi - pk), (pk - pm))) / 2 \n",
    "    Ak = np.linalg.norm(np.cross((pi - pj), (pi - pm))) / 2 \n",
    "    Am = np.linalg.norm(np.cross((pj - pk), (pi - pk))) / 2 \n",
    "    A_sum = Ai ** 2 + Aj ** 2 + Ak ** 2 + Am ** 2 \n",
    "    A_rms = np.sqrt(A_sum / 4)\n",
    "    \n",
    "    const = (3 * np.sqrt(6)) / 2.0\n",
    "    return const * (V / (l_rms * A_rms + 0.000001))\n",
    "     \n",
    "\n",
    "def compute_quality_radius_ratio(pi, pj, pk, pm):\n",
    "    r_out = compute_circumscribed_sphere(pi, pj, pk, pm)[1]\n",
    "    r_in = compute_inscribed_sphere(pi, pj, pk, pm)[1]\n",
    "    \n",
    "    return 3 * r_in / r_out\n"
   ]
  },
  {
   "cell_type": "markdown",
   "metadata": {},
   "source": [
    "Finally we can create a function that iterates over all tetrahedra in a mesh, compute quality measures for each tetrahedron and make histograms of the measures"
   ]
  },
  {
   "cell_type": "code",
   "execution_count": 77,
   "metadata": {},
   "outputs": [],
   "source": [
    "def quality_histogram(vertices, tets, quality):\n",
    "    histogram = np.zeros((tets.shape[0], 1), dtype = np.float64)\n",
    "    \n",
    "    X = vertices[:, 0]\n",
    "    Y = vertices[:, 1]\n",
    "    Z = vertices[:, 2]\n",
    "    \n",
    "    for n in range(tets.shape[0]):\n",
    "        i = tets[n, 0]\n",
    "        j = tets[n, 1]\n",
    "        k = tets[n, 2]\n",
    "        m = tets[n, 3]\n",
    "        \n",
    "        pi = np.array([X[i], Y[i], Z[i]])\n",
    "        pj = np.array([X[j], Y[j], Z[j]])\n",
    "        pk = np.array([X[k], Y[k], Z[k]])\n",
    "        pm = np.array([X[m], Y[m], Z[m]])\n",
    "        \n",
    "        if is_left_orientation(pi, pj, pk, pm):\n",
    "            pj, pi = pi, pj\n",
    "            \n",
    "        histogram[n] = quality(pi, pj, pk, pm)\n",
    "        \n",
    "    return histogram\n"
   ]
  },
  {
   "cell_type": "code",
   "execution_count": 92,
   "metadata": {},
   "outputs": [],
   "source": [
    "def plot_quality_histograms(vertices, tets):\n",
    "    rms = quality_histogram(vertices, tets, compute_quality_nonsmooth_rms)\n",
    "    maxx = quality_histogram(vertices, tets, compute_quality_nonsmooth_max)\n",
    "    knupp = quality_histogram(vertices, tets, compute_quality_knupp)\n",
    "    rr = quality_histogram(vertices, tets, compute_quality_radius_ratio)\n",
    "    \n",
    "    fig, axs = plt.subplots(2, 2, figsize=(7, 7))\n",
    "    axs[0, 0].hist(rms, bins=40, color='blue')\n",
    "    axs[0, 0].set_title('(1)')\n",
    "    axs[0, 1].hist(maxx, bins=40, color='red')\n",
    "    axs[0, 1].set_title('(2)')\n",
    "    axs[1, 0].hist(knupp,bins=40, color='green')\n",
    "    axs[1, 0].set_title('(3)')\n",
    "    axs[1, 1].hist(rr, bins=40,color='orange')\n",
    "    axs[1, 1].set_title('(4)')\n",
    "    plt.show()\n",
    "    "
   ]
  },
  {
   "cell_type": "markdown",
   "metadata": {},
   "source": [
    "# Reading Surface Mesh from File\n",
    "\n",
    "We want to get some test geometry for making 3D tetrahedral meshes. We will use a popular computer graphics figure for our testing."
   ]
  },
  {
   "cell_type": "code",
   "execution_count": 59,
   "metadata": {},
   "outputs": [
    {
     "data": {
      "application/vnd.jupyter.widget-view+json": {
       "model_id": "20420263a97a482fa4102ef42ac66ec9",
       "version_major": 2,
       "version_minor": 0
      },
      "text/plain": [
       "Renderer(camera=PerspectiveCamera(children=(DirectionalLight(color='white', intensity=0.6, position=(0.0002725…"
      ]
     },
     "metadata": {},
     "output_type": "display_data"
    }
   ],
   "source": [
    "v, f = igl.read_triangle_mesh(\"armadillo.obj\")\n",
    "mp.plot(v, f, v[:, 0])"
   ]
  },
  {
   "cell_type": "markdown",
   "metadata": {},
   "source": [
    "# Create Volumetric Tetrahedral Mesh from Surface Mesh\n",
    "\n",
    "We can now invoke a meshing routine to get a volume mesh and then visualize it."
   ]
  },
  {
   "cell_type": "code",
   "execution_count": 12,
   "metadata": {},
   "outputs": [],
   "source": [
    "#V, T, _ = igl.tetrahedralize(v, f, \"pq1.414a0.01\")"
   ]
  },
  {
   "cell_type": "code",
   "execution_count": 79,
   "metadata": {},
   "outputs": [
    {
     "data": {
      "application/vnd.jupyter.widget-view+json": {
       "model_id": "1c005a0c60d64443a1195ff866d03d8b",
       "version_major": 2,
       "version_minor": 0
      },
      "text/plain": [
       "Renderer(camera=PerspectiveCamera(children=(DirectionalLight(color='white', intensity=0.6, position=(0.0003275…"
      ]
     },
     "metadata": {},
     "output_type": "display_data"
    }
   ],
   "source": [
    "tetra = wm.Tetrahedralizer(stop_quality=500)\n",
    "tetra.load_mesh(\"armadillo.obj\")\n",
    "tetra.tetrahedralize()\n",
    "V, T = tetra.get_tet_mesh()\n",
    "mp.plot(V, T)"
   ]
  },
  {
   "cell_type": "markdown",
   "metadata": {},
   "source": [
    "# Histograms of Quality Measures from 3D Volume Mesh\n",
    "\n",
    "We now have all pieces in place to make histograms. We can use the histograms to get an idea of the quality of the mesh we have created."
   ]
  },
  {
   "cell_type": "code",
   "execution_count": 93,
   "metadata": {},
   "outputs": [
    {
     "name": "stderr",
     "output_type": "stream",
     "text": [
      "C:\\Users\\DKMEQ\\AppData\\Local\\Continuum\\anaconda3\\lib\\site-packages\\ipykernel_launcher.py:7: RuntimeWarning: More than 20 figures have been opened. Figures created through the pyplot interface (`matplotlib.pyplot.figure`) are retained until explicitly closed and may consume too much memory. (To control this warning, see the rcParam `figure.max_open_warning`).\n",
      "  import sys\n"
     ]
    },
    {
     "data": {
      "application/vnd.jupyter.widget-view+json": {
       "model_id": "62a7466fe7c34658b9c2b2208d95da6c",
       "version_major": 2,
       "version_minor": 0
      },
      "text/plain": [
       "Canvas(toolbar=Toolbar(toolitems=[('Home', 'Reset original view', 'home', 'home'), ('Back', 'Back to previous …"
      ]
     },
     "metadata": {},
     "output_type": "display_data"
    }
   ],
   "source": [
    "plot_quality_histograms(V, T)"
   ]
  },
  {
   "cell_type": "markdown",
   "metadata": {},
   "source": [
    "Just for fun we will play with a few more meshes to see how they behave"
   ]
  },
  {
   "cell_type": "code",
   "execution_count": 19,
   "metadata": {},
   "outputs": [
    {
     "data": {
      "application/vnd.jupyter.widget-view+json": {
       "model_id": "5d19b7ef9ead4d7a8142523f37160a8e",
       "version_major": 2,
       "version_minor": 0
      },
      "text/plain": [
       "Renderer(camera=PerspectiveCamera(children=(DirectionalLight(color='white', intensity=0.6, position=(-33.78362…"
      ]
     },
     "metadata": {},
     "output_type": "display_data"
    },
    {
     "data": {
      "application/vnd.jupyter.widget-view+json": {
       "model_id": "2eabc45eeba2429797777e7ac24f9bc5",
       "version_major": 2,
       "version_minor": 0
      },
      "text/plain": [
       "Canvas(toolbar=Toolbar(toolitems=[('Home', 'Reset original view', 'home', 'home'), ('Back', 'Back to previous …"
      ]
     },
     "metadata": {},
     "output_type": "display_data"
    }
   ],
   "source": [
    "tetra = wm.Tetrahedralizer(stop_quality=500)\n",
    "tetra.load_mesh(\"left_brain.stl\")\n",
    "tetra.tetrahedralize()\n",
    "V, T = tetra.get_tet_mesh()\n",
    "mp.plot(V, T)\n",
    "plot_quality_histograms(V, T)"
   ]
  },
  {
   "cell_type": "code",
   "execution_count": 20,
   "metadata": {},
   "outputs": [
    {
     "data": {
      "application/vnd.jupyter.widget-view+json": {
       "model_id": "0d1f8fc30b614f3f9f1a22994047bd46",
       "version_major": 2,
       "version_minor": 0
      },
      "text/plain": [
       "Renderer(camera=PerspectiveCamera(children=(DirectionalLight(color='white', intensity=0.6, position=(34.877559…"
      ]
     },
     "metadata": {},
     "output_type": "display_data"
    },
    {
     "data": {
      "application/vnd.jupyter.widget-view+json": {
       "model_id": "0c0e5c59c93a491c814f05486b8fef35",
       "version_major": 2,
       "version_minor": 0
      },
      "text/plain": [
       "Canvas(toolbar=Toolbar(toolitems=[('Home', 'Reset original view', 'home', 'home'), ('Back', 'Back to previous …"
      ]
     },
     "metadata": {},
     "output_type": "display_data"
    }
   ],
   "source": [
    "tetra = wm.Tetrahedralizer(stop_quality=500)\n",
    "tetra.load_mesh(\"right_brain.stl\")\n",
    "tetra.tetrahedralize()\n",
    "V, T = tetra.get_tet_mesh()\n",
    "mp.plot(V, T)\n",
    "plot_quality_histograms(V, T)"
   ]
  },
  {
   "cell_type": "markdown",
   "metadata": {},
   "source": [
    "# Marching Triangles"
   ]
  },
  {
   "cell_type": "markdown",
   "metadata": {},
   "source": [
    "We will reuse some of our code from week 2. Particular we need the function that can compute a signed distance field. This is because we want to apply the marching triangle method on a signed distance field."
   ]
  },
  {
   "cell_type": "code",
   "execution_count": 23,
   "metadata": {},
   "outputs": [],
   "source": [
    "def vec2(x,y):\n",
    "    return np.array([x,y], dtype=np.float64)\n",
    "\n",
    "\n",
    "def compute_signed_distance(poly, q):\n",
    "    \n",
    "    def is_left(p0, p1, p2):\n",
    "        return (p1[0] - p0[0]) * (p2[1] - p0[1]) - (p2[0] - p0[0]) * (p1[1] - p0[1])\n",
    "\n",
    "    N = poly.shape[0]\n",
    "    d = np.inf\n",
    "\n",
    "    # Compute distance to closest surface point\n",
    "    for i in range(N-1):\n",
    "        a = poly[i, :]    # Point on the surface of polygon p\n",
    "        b = poly[i+1, :]  # Adjacent point on the surface of polygon p\n",
    "        \n",
    "        ba = b - a     # Vector from a to b\n",
    "        bal = np.linalg.norm(ba) # Length of ba vector\n",
    "        if bal == 0:\n",
    "            continue\n",
    "        ban = ba / bal # Normal of the vector from a to b\n",
    "        qa = q - a     # The vector from the query point to a\n",
    "        alpha = np.dot(qa, ban) / bal\n",
    "        if alpha < 0:\n",
    "            da = np.linalg.norm(q-a)\n",
    "            if da < d:\n",
    "                d = da\n",
    "        elif alpha > 1:\n",
    "            db = np.linalg.norm(q-b)\n",
    "            if db < d:\n",
    "                d = db\n",
    "        else:\n",
    "            banp = np.array([-ban[1], ban[0]])\n",
    "            dp = abs(np.dot(qa, banp))\n",
    "            if dp < d:\n",
    "                d = dp\n",
    "    # Compute winding number to set the sign\n",
    "    wn = 0\n",
    "    for i in range(N-1):\n",
    "        a = poly[i, :]    # Point on the surface of polygon p\n",
    "        b = poly[i+1, :]  # Adjacent point on the surface of polygon p\n",
    "        if a[1] <= q[1]:\n",
    "            if b[1] > q[1]:\n",
    "                if is_left(a, b, q) > 0:\n",
    "                    wn = wn + 1\n",
    "        else:\n",
    "            if b[1] <= q[1]:\n",
    "                if is_left(a, b, q) < 0:\n",
    "                    wn = wn -1\n",
    "    if wn < -0.5:\n",
    "        d = -d\n",
    "    elif wn > 0.5:\n",
    "        d = -d\n",
    "    return d"
   ]
  },
  {
   "cell_type": "markdown",
   "metadata": {},
   "source": [
    "The marching triangles method creates a regular background grid and then evaluates the signed distance field value at all grid points. Hereafer each cell is visited iteratively. The cell is cut into two triangles and each triangle is investigated. The triangle vertex order are shuffled such that all interior vertices comes first. \n",
    "\n",
    "We may now analyse the triangle case by assigning a case number to the triangle from a binary mask created from its inside-outside pattern of the vertices. The case number identifies a stencil for how to \"cut\" the triangle and generate triangles that covers the interior of the distance field."
   ]
  },
  {
   "cell_type": "code",
   "execution_count": 37,
   "metadata": {},
   "outputs": [],
   "source": [
    "\n",
    "def is_inside(poly, p):\n",
    "    d = compute_signed_distance(poly, p)\n",
    "    \n",
    "    return d <= 0\n",
    "\n",
    "\n",
    "def point(poly, p_in, p_out):\n",
    "    d1 = compute_signed_distance(poly, p_in)\n",
    "    d2 = compute_signed_distance(poly, p_out)\n",
    "    dist = d2 - d1\n",
    "    coef = -d1 / dist\n",
    "\n",
    "    p = p_in + (p_out - p_in) * coef\n",
    "    \n",
    "    return p\n",
    "\n",
    "    \n",
    "def two_outside(poly, p1, p2, p3):\n",
    "    n1 = point(poly, p2, p1)\n",
    "    n3 = point(poly, p2, p3)\n",
    "    \n",
    "    return np.array([n1, p2, n3])\n",
    "  \n",
    "    \n",
    "def one_outside(poly, p1, p2, p3):\n",
    "    intersection_1 = point(poly, p2, p1)\n",
    "    intersection_2 = point(poly, p3, p1)\n",
    "    \n",
    "    return intersection_1, intersection_2\n",
    "  \n",
    "\n",
    "def marching_triangles(poly, I, J):\n",
    "    V, T = make_beam_mesh(3.0, 3.0, (I, J))\n",
    "    X = V[:, 0]\n",
    "    Y = V[:, 1]\n",
    "    \n",
    "    ind = 0\n",
    "    v = np.empty((0,2),dtype=np.float64)\n",
    "    t = np.empty((0,3),dtype=np.float64)\n",
    "    \n",
    "    for triangle in T:\n",
    "        p1 = np.array([X[triangle[0]], Y[triangle[0]]])\n",
    "        phi_1 = is_inside(poly, p1)\n",
    "            \n",
    "        p2 = np.array([X[triangle[1]], Y[triangle[1]]])\n",
    "        phi_2 = is_inside(poly, p2)\n",
    "                \n",
    "        p3 = np.array([X[triangle[2]], Y[triangle[2]]])\n",
    "        phi_3 = is_inside(poly, p3)\n",
    "            \n",
    "        if phi_1 and phi_2 and phi_3:\n",
    "            v = np.append(v, [p1, p2, p3], axis=0)\n",
    "            t = np.append(t, [[ind, ind + 1, ind + 2]], axis=0)\n",
    "            \n",
    "            ind = ind + 3\n",
    "            \n",
    "            \n",
    "        elif phi_1 and phi_2:\n",
    "            int1, int2 = one_outside(poly, p3, p1, p2)\n",
    "            \n",
    "            v = np.append(v, [p1, int1, int2], axis=0)\n",
    "            v = np.append(v, [p1, p2, int2], axis=0)\n",
    "            \n",
    "            t = np.append(t, [[ind, ind + 1, ind + 2]], axis=0)\n",
    "            ind = ind + 3\n",
    "            \n",
    "            t = np.append(t, [[ind, ind + 1, ind + 2]], axis=0)\n",
    "            ind = ind + 3\n",
    "            \n",
    "            \n",
    "        elif phi_1 and phi_3:\n",
    "            int1, int2 = one_outside(poly, p2, p3, p1)\n",
    "            \n",
    "            v = np.append(v, [p3, int1, int2], axis=0)\n",
    "            v = np.append(v, [p3, p1, int2], axis=0)\n",
    "            \n",
    "            t = np.append(t, [[ind, ind + 1, ind + 2]], axis=0)\n",
    "            ind = ind + 3\n",
    "            \n",
    "            t = np.append(t, [[ind, ind + 1, ind + 2]], axis=0)\n",
    "            ind = ind + 3  \n",
    "            \n",
    "            \n",
    "        elif phi_2 and phi_3:\n",
    "            int1, int2 = one_outside(poly, p1, p2, p3)\n",
    "            \n",
    "            v = np.append(v, [p3, int1, int2], axis=0)\n",
    "            v = np.append(v, [p2, p3, int1], axis=0)\n",
    "            \n",
    "            t = np.append(t, [[ind, ind + 1, ind + 2]], axis=0)\n",
    "            ind = ind + 3\n",
    "            \n",
    "            t = np.append(t, [[ind, ind + 1, ind + 2]], axis=0)\n",
    "            ind = ind + 3\n",
    "            \n",
    "            \n",
    "        elif phi_1:\n",
    "            ps =  two_outside(poly, p2, p1, p3)\n",
    "            v = np.append(v, ps, axis=0)\n",
    "            t = np.append(t, [[ind, ind + 1, ind + 2]], axis=0)\n",
    "            \n",
    "            ind = ind + 3\n",
    "            \n",
    "            \n",
    "        elif phi_2:\n",
    "            ps = two_outside(poly, p1, p2, p3)\n",
    "            v = np.append(v, ps, axis=0)\n",
    "            t = np.append(t, [[ind, ind + 1, ind + 2]], axis=0)\n",
    "            \n",
    "            ind = ind + 3\n",
    "            \n",
    "        elif phi_3:\n",
    "            ps = two_outside(poly, p1, p3, p2)\n",
    "            v = np.append(v, ps, axis=0)\n",
    "            t = np.append(t, [[ind, ind + 1, ind + 2]], axis=0)\n",
    "            \n",
    "            ind = ind + 3\n",
    "            \n",
    "        else: \n",
    "            continue\n",
    "        \n",
    "        \n",
    "    return v, t\n"
   ]
  },
  {
   "cell_type": "markdown",
   "metadata": {},
   "source": [
    "We may now apply the marching triangle to a test problem"
   ]
  },
  {
   "cell_type": "code",
   "execution_count": 40,
   "metadata": {},
   "outputs": [
    {
     "data": {
      "application/vnd.jupyter.widget-view+json": {
       "model_id": "94c75c4f7640401cadd4304c21b2f85f",
       "version_major": 2,
       "version_minor": 0
      },
      "text/plain": [
       "Canvas(toolbar=Toolbar(toolitems=[('Home', 'Reset original view', 'home', 'home'), ('Back', 'Back to previous …"
      ]
     },
     "metadata": {},
     "output_type": "display_data"
    }
   ],
   "source": [
    "poly = np.zeros((9,2),dtype=np.float64)\n",
    "poly[0,:] = vec2(-1,-1)\n",
    "poly[1,:] = vec2(-0.5,-1)\n",
    "poly[2,:] = vec2(-0.5,0.5)\n",
    "poly[3,:] = vec2(0.5,0.5)\n",
    "poly[4,:] = vec2(0.5,-1)\n",
    "poly[5,:] = vec2( 1,-1)\n",
    "poly[6,:] = vec2( 1, 1)\n",
    "poly[7,:] = vec2(-1, 1)\n",
    "poly[8,:] = vec2(-1,-1)\n",
    "\n",
    "V, T = make_beam_mesh(3.0, 3.0, (16, 16))\n",
    "\n",
    "v, t = marching_triangles(poly, 16, 16)\n",
    "\n",
    "fig = plt.figure()\n",
    "#plt.plot(poly[:,0],poly[:,1])\n",
    "#plt.triplot(V[:,0], V[:,1], T)\n",
    "plt.triplot(v[:,0], v[:,1], t, c='red')\n",
    "plt.show()"
   ]
  },
  {
   "cell_type": "markdown",
   "metadata": {},
   "source": [
    "We may observe several issues with the current implementation. Particular at corners we can see sampling side effects. The method can be fooled to believe the whole area of a triangle is part of the inside if all vertices are inside. Likewise it can be fooled to think a triangle is completely outside if none of the vertices are interior. For instance the in the case of the polygon overlapping only one edge of the triangle.\n",
    "\n",
    "Besides these sampling artefacts we may also note that the current implementation generates redundant vertices. When a triangle is cut by the zero-level set then the intersection points that is computed are not re-used when dealing with neighboring triangles that share the same intersection points."
   ]
  },
  {
   "cell_type": "markdown",
   "metadata": {},
   "source": [
    "That is it folks!"
   ]
  }
 ],
 "metadata": {
  "kernelspec": {
   "display_name": "Python 3",
   "language": "python",
   "name": "python3"
  },
  "language_info": {
   "codemirror_mode": {
    "name": "ipython",
    "version": 3
   },
   "file_extension": ".py",
   "mimetype": "text/x-python",
   "name": "python",
   "nbconvert_exporter": "python",
   "pygments_lexer": "ipython3",
   "version": "3.7.4"
  }
 },
 "nbformat": 4,
 "nbformat_minor": 2
}

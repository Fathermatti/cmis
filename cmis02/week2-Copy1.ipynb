{
 "cells": [
  {
   "cell_type": "markdown",
   "metadata": {},
   "source": [
    "# Computational Methods in Simulation (CMIS) Week 2\n",
    "This notebook is intended to help students make their hand-in in this week of CMIS.\n",
    "\n",
    "\n",
    "Hand-ins must be submitted as a maximum 3 page pdf file in Absalon and must be made using the ACM TOG overleaf latex template\n",
    "\n",
    "https://www.overleaf.com/latex/templates/association-for-computing-machinery-acm-large-2-column-format-template/qwcgpbmkkvpq\n",
    "\n",
    "Notebooks must be uploaded as well so teachers have code solutions accessible if needed."
   ]
  },
  {
   "cell_type": "markdown",
   "metadata": {},
   "source": [
    "This week is based on Slides 11 and 12\n",
    "\n",
    "* Advection Problem: From Page 61 in slides 11\n",
    "\n",
    "    * Define some φ field on a regular 2D grid (Hint: The function peaks might be useful).\n",
    "\n",
    "    * Use the analytical velocity field u(x,y) = (y,−x)T\n",
    "\n",
    "    * Explain in detail how to use semi-Lagrangian time integration to implement a scheme for solving ∂φ/∂t = − (u · ∇) φ on a regular mesh domain.\n",
    "\n",
    "    * Ideally φ should just rotate as a function of time. Implement your derived scheme and examine if this is true. (Hint: You have to carefully define an experiment and identify what causes φ to change).\n",
    "    \n",
    "* Mean Curvatue Flow: From page 17 in Slides 12\n",
    "\n",
    "    * Discus what boundary conditions to apply to φ for a mean curvature flow. Assume that φ is a signed distance field. (HINT: Try and sketch a signed distance map in 1D and draw a vertical line at some imaginary boundary).\n",
    "\n",
    "    * Implement a mean curvature flow simulation with the purpose of making it as robust as possible.\n",
    "\n",
    "    * Assume that input φ is a signed distance map. Examine if this property holds through out a simulation.\n",
    "\n",
    "    * Analyse which of the “Numerical Remedies” that are most important to achieve a robust simulation."
   ]
  },
  {
   "cell_type": "markdown",
   "metadata": {},
   "source": [
    "## Detailed Expected Learning Objectives in this Week\n",
    "\n",
    "* Finite Difference Methods (FDM) Part 2 (Lecture slides number 11)\n",
    "    * Apply Semi Lagrangian Implicit Time integration to advection type problems.\n",
    "* Finite Difference Methods (FDM) Part 3 (Lecture slides number 12)\n",
    "    * Apply FDM techniques on a larger more complex case-study."
   ]
  },
  {
   "cell_type": "markdown",
   "metadata": {},
   "source": [
    "## Common Data Structures\n",
    "This week is studying two different types of PDE problems. One is advection by a rotational velocity\n",
    "field where we investigate semi-Lagrangian time-integration and the other is a geometry\n",
    "problem of changing a shape of a polygon by using mean curvature flow.\n",
    "\n",
    "* Advection with Semi-Lagrangian Time Integration\n",
    "* Mean Curvature Flow\n",
    "\n",
    "Both these applications make use of a regular 2D grid to store a value field that in the assignment text was labelled by $\\phi$. Hence, we will start by creating a simple grid data structure that will help us make our code a little more easy later on.\n",
    "\n",
    "First we will make sure all pyhton packages we need are loaded and any helper functions are set up."
   ]
  },
  {
   "cell_type": "code",
   "execution_count": 1,
   "metadata": {},
   "outputs": [],
   "source": [
    "%matplotlib widget"
   ]
  },
  {
   "cell_type": "code",
   "execution_count": 2,
   "metadata": {},
   "outputs": [],
   "source": [
    "import numpy as np\n",
    "import matplotlib.pyplot as plt\n",
    "import matplotlib.animation as animation\n",
    "from mpl_toolkits.mplot3d import Axes3D\n",
    "\n",
    "def vec2(x,y):\n",
    "    \"\"\"\n",
    "    Helper functions for quickly creating 2D vectors without having to write too much text.\n",
    "    \"\"\"\n",
    "    return np.array([x,y], dtype=np.float64)"
   ]
  },
  {
   "cell_type": "markdown",
   "metadata": {},
   "source": [
    "Next we are ready to define our grid data structure. It is quite simple as it uses three 2D arrays. One for storing x-coordinates of all nodes in the grid, one for the y-coordinates and one for all the values stored at the node. The grid must support 3 different kind of use cases:\n",
    "\n",
    "* The constructor makes sure to allocate these 2D arrays and setup any other member variables that we may need later on. Such as the cell spacing, number of nodes along each axis etc.\n",
    "\n",
    "* The interpolate method is responsible for querying field values from non-node grid locations. That is this method reconstructs the field value at a given location p by using the enclosing nodal values and linear basis functions.\n",
    "\n",
    "* The last funcgtionality is the ability to easily map a function onto the grid. That is we want to pass the grid a function that is evaluated for all node coordinates and the function values are then stored in the grid value array.\n"
   ]
  },
  {
   "cell_type": "code",
   "execution_count": 3,
   "metadata": {},
   "outputs": [],
   "source": [
    "class SimpleGrid2D:\n",
    "    \n",
    "    def __init__(self, min_coord, max_coord, I, J):\n",
    "        if np.any(min_coord > max_coord):\n",
    "            raise ValueError()\n",
    "        if I < 2:\n",
    "            raise ValueError()\n",
    "        if J < 2:\n",
    "            raise ValueError()\n",
    "\n",
    "        self.min_coord = min_coord\n",
    "        self.max_coord = max_coord\n",
    "        \n",
    "        self.I = I  # Number of nodes along x axis\n",
    "        self.J = J  # Number of nodes along y axis\n",
    "        \n",
    "        res = np.array([I-1, J-1], dtype=np.float64)\n",
    "        dims = (self.max_coord - self.min_coord)\n",
    "        self.spacing = np.divide( dims, res)\n",
    "        \n",
    "        self.dx = self.spacing[0]\n",
    "        self.dy = self.spacing[1]\n",
    "\n",
    "        self.x = np.linspace(min_coord[0], max_coord[0], I)\n",
    "        self.y = np.linspace(min_coord[1], max_coord[1], J)\n",
    "    \n",
    "        X, Y = np.meshgrid(self.x, self.y)\n",
    "        self.X = X.T\n",
    "        self.Y = Y.T\n",
    "        self.values = np.zeros((I, J),dtype=np.float64)\n",
    "        \n",
    "    def interpolate(self, p):\n",
    "        idx = np.floor((p - self.min_coord) / self.spacing)\n",
    "        # if index is outside the cells then project onto closest cell\n",
    "        i = np.clip(int(idx[0]), 0, self.I-2)\n",
    "        j = np.clip(int(idx[1]), 0, self.J-2)\n",
    "                \n",
    "        x00 = self.values[i,j]\n",
    "        x01 = self.values[i+1,j]\n",
    "        x10 = self.values[i,j+1]\n",
    "        x11 = self.values[i+1,j+1]\n",
    "        \n",
    "        s = (p[0]  - (i * self.spacing[0] + self.min_coord[0]) ) / self.spacing[0]\n",
    "        t = (p[1]  - (j * self.spacing[1] + self.min_coord[1])) / self.spacing[1]        \n",
    "\n",
    "        y0 = (x01 - x00) * s + x00\n",
    "        y1 = (x11 - x10) * s + x10\n",
    "        return (y1 - y0) * t + y0\n",
    "    \n",
    "    def eval_func(self, func):\n",
    "        for i in range(self.I):\n",
    "            for j in range(self.J):\n",
    "                x = self.X[i,j]\n",
    "                y = self.Y[i,j]\n",
    "                self.values[i,j] = func(vec2(x,y))"
   ]
  },
  {
   "cell_type": "markdown",
   "metadata": {},
   "source": [
    "As our grid data structure uses numpy arrays we must be careful if we want to create a copy of a grid value. Hence, we have a special functions for creating proper copies. This is to make sure that no two variable names share the same storage. "
   ]
  },
  {
   "cell_type": "code",
   "execution_count": 4,
   "metadata": {},
   "outputs": [],
   "source": [
    "def make_copy(grid):\n",
    "    cpy = SimpleGrid2D(grid.min_coord, grid.max_coord, grid.I, grid.J)\n",
    "    cpy.values = np.copy(grid.values)\n",
    "    return cpy"
   ]
  },
  {
   "cell_type": "markdown",
   "metadata": {},
   "source": [
    "Once we start populating our grid data structure with values from different functions then it is helpful to be able to easy visualize the values stored in a grid. For this purpose we have a function that simply show the grid values as an image."
   ]
  },
  {
   "cell_type": "code",
   "execution_count": 5,
   "metadata": {},
   "outputs": [],
   "source": [
    "def show_grid(grid):\n",
    "    fig = plt.figure()\n",
    "    ax = fig.add_subplot(111)\n",
    "    ax.set_title('Grid Values')\n",
    "    plt.imshow(grid.values)\n",
    "    ax.set_aspect('equal')\n",
    "    plt.colorbar(orientation='vertical')\n",
    "    plt.show()"
   ]
  },
  {
   "cell_type": "markdown",
   "metadata": {},
   "source": [
    "We only need a few functions that can help us put some values into a grid where we know exactly what the results should be. We have created a peaky looking shape function that is nice for advection problems simply because the peaks will suffer greatly from any numerical dissipation in ones scheme. The other function is a trivial linear function. It is nice for testing if our interpolation method works as bilinear interpolation should be exact for a linear function sampled on a grid, even if the grid is very coarse."
   ]
  },
  {
   "cell_type": "code",
   "execution_count": 6,
   "metadata": {},
   "outputs": [],
   "source": [
    "def peaks(p):\n",
    "    x = p[0]\n",
    "    y = p[1]    \n",
    "    z = 3*((1-x)**2)*np.exp(-(x**2) - (y+1)**2) - 10*(x/5 - x**3 - y**5)*np.exp(-x**2 - y**2) - 1/3*np.exp(-(x+1)**2 - y**2)\n",
    "    return z\n",
    "\n",
    "\n",
    "def ramp(p):\n",
    "    return p[0]"
   ]
  },
  {
   "cell_type": "markdown",
   "metadata": {},
   "source": [
    "Now we make test if our copy function work as intended"
   ]
  },
  {
   "cell_type": "code",
   "execution_count": 7,
   "metadata": {},
   "outputs": [
    {
     "name": "stdout",
     "output_type": "stream",
     "text": [
      "A is now peak =  [[ 0.98101184  0.43413361  0.95225665  3.68862957]\n",
      " [ 0.11744864 -0.05306361  0.62362037  3.19551845]\n",
      " [ 1.10278675  0.9761935   1.21134321  2.73945317]\n",
      " [ 2.93693032  2.64162775  2.19372215  2.43378912]]\n"
     ]
    },
    {
     "data": {
      "application/vnd.jupyter.widget-view+json": {
       "model_id": "bcfaa9a3afa849b699ec52f89d309e72",
       "version_major": 2,
       "version_minor": 0
      },
      "text/plain": [
       "Canvas(toolbar=Toolbar(toolitems=[('Home', 'Reset original view', 'home', 'home'), ('Back', 'Back to previous …"
      ]
     },
     "metadata": {},
     "output_type": "display_data"
    },
    {
     "name": "stdout",
     "output_type": "stream",
     "text": [
      "A is now ramp =  [[0.         0.         0.         0.        ]\n",
      " [0.33333333 0.33333333 0.33333333 0.33333333]\n",
      " [0.66666667 0.66666667 0.66666667 0.66666667]\n",
      " [1.         1.         1.         1.        ]]\n",
      "B is still peak =  [[ 0.98101184  0.43413361  0.95225665  3.68862957]\n",
      " [ 0.11744864 -0.05306361  0.62362037  3.19551845]\n",
      " [ 1.10278675  0.9761935   1.21134321  2.73945317]\n",
      " [ 2.93693032  2.64162775  2.19372215  2.43378912]]\n"
     ]
    }
   ],
   "source": [
    "min_coord = vec2(0, 0)\n",
    "max_coord = vec2(1, 1)\n",
    "A = SimpleGrid2D(min_coord, max_coord, 4, 4)\n",
    "A.eval_func( peaks )\n",
    "print(\"A is now peak = \", A.values)\n",
    "\n",
    "plt.imshow(A.values)\n",
    "plt.show()\n",
    "\n",
    "B = make_copy(A)\n",
    "A.eval_func( ramp )\n",
    "print(\"A is now ramp = \", A.values)\n",
    "print(\"B is still peak = \", B.values)"
   ]
  },
  {
   "cell_type": "markdown",
   "metadata": {},
   "source": [
    "Next we verify the interpolation function"
   ]
  },
  {
   "cell_type": "code",
   "execution_count": 8,
   "metadata": {},
   "outputs": [
    {
     "name": "stdout",
     "output_type": "stream",
     "text": [
      "point =  [0.1 0.1]  expected =  0.1  actual =  0.1\n",
      "point =  [0.1 0.9]  expected =  0.1  actual =  0.1\n",
      "point =  [0.5 0.5]  expected =  0.5  actual =  0.5\n",
      "point =  [0.9 0.1]  expected =  0.9  actual =  0.9\n"
     ]
    }
   ],
   "source": [
    "p = vec2(0.1,0.1)\n",
    "value = A.interpolate( p)\n",
    "print(\"point = \", p,\" expected = \", ramp(p), \" actual = \", value)\n",
    "\n",
    "p = vec2(0.1,0.9)\n",
    "value = A.interpolate( p)\n",
    "print(\"point = \", p,\" expected = \", ramp(p), \" actual = \", value)\n",
    "\n",
    "p = vec2(0.5,0.5)\n",
    "value = A.interpolate( p)\n",
    "print(\"point = \", p,\" expected = \", ramp(p), \" actual = \", value)\n",
    "\n",
    "p = vec2(0.9,0.1)\n",
    "value = A.interpolate( p)\n",
    "print(\"point = \", p,\" expected = \", ramp(p), \" actual = \", value)"
   ]
  },
  {
   "cell_type": "markdown",
   "metadata": {},
   "source": [
    "# Advection with Semi-Lagrangian Implicit Time Integration\n",
    "We know have our common data structures in place and we can start solving the first part of this hand-in. Below is our implementation of the Semi-Lagrangian Implicit time-integration. The code tries to test the relative error of a conservation merit value for different grid spacings and timestep sizes. The purpose is to investigate how the error behaves when we decreate spacing and time-step sizes.\n",
    "\n",
    "A critical task is to define a meaningfull measure of conservation. We have used the total positive volume as a measure of conservation. That is\n",
    "\n",
    "$A(t) \\equiv \\int_S |\\phi(t)| dS \\approx \\sum_{i,j} |\\phi_{i,j}(t)| \\Delta x \\Delta y$\n",
    "\n",
    "Now we may define the relative error as \n",
    "\n",
    "$e(T) \\equiv \\frac{|A(T)-A(0)|}{|A(0)|}$\n",
    "\n",
    "Here $T$ is the end-time of a simulation and we pick this such that the advection should make one full revolution. In a perfect ideal world there would be no dissipation and no numerical rounding etc. Hence, $\\phi(T) = \\phi(0)$. In the real world this is not so and our error measure tries to measure how good the real world is at not loosing too much information in $\\phi(T)$.\n",
    "\n",
    "Besides the error measurements we also store the end-results of the computations for later visualizations"
   ]
  },
  {
   "cell_type": "code",
   "execution_count": 30,
   "metadata": {},
   "outputs": [
    {
     "name": "stderr",
     "output_type": "stream",
     "text": [
      "C:\\Users\\DKMEQ\\AppData\\Local\\Continuum\\anaconda3\\lib\\site-packages\\ipykernel_launcher.py:2: RuntimeWarning: More than 20 figures have been opened. Figures created through the pyplot interface (`matplotlib.pyplot.figure`) are retained until explicitly closed and may consume too much memory. (To control this warning, see the rcParam `figure.max_open_warning`).\n",
      "  \n"
     ]
    },
    {
     "data": {
      "application/vnd.jupyter.widget-view+json": {
       "model_id": "7a74c85d0a7b406888443f1606346e4b",
       "version_major": 2,
       "version_minor": 0
      },
      "text/plain": [
       "Canvas(toolbar=Toolbar(toolitems=[('Home', 'Reset original view', 'home', 'home'), ('Back', 'Back to previous …"
      ]
     },
     "metadata": {},
     "output_type": "display_data"
    },
    {
     "name": "stderr",
     "output_type": "stream",
     "text": [
      "C:\\Users\\DKMEQ\\AppData\\Local\\Continuum\\anaconda3\\lib\\site-packages\\ipykernel_launcher.py:2: RuntimeWarning: More than 20 figures have been opened. Figures created through the pyplot interface (`matplotlib.pyplot.figure`) are retained until explicitly closed and may consume too much memory. (To control this warning, see the rcParam `figure.max_open_warning`).\n",
      "  \n"
     ]
    },
    {
     "data": {
      "application/vnd.jupyter.widget-view+json": {
       "model_id": "1f2b50a758034d35bfea93a58aa8b640",
       "version_major": 2,
       "version_minor": 0
      },
      "text/plain": [
       "Canvas(toolbar=Toolbar(toolitems=[('Home', 'Reset original view', 'home', 'home'), ('Back', 'Back to previous …"
      ]
     },
     "metadata": {},
     "output_type": "display_data"
    }
   ],
   "source": [
    "def plo(grid):\n",
    "    fig = plt.figure()\n",
    "    ax = fig.add_subplot(111, projection='3d')\n",
    "    ax.plot_surface(grid.X, grid.Y, grid.values, cmap=\"magma\", color='0.75', rstride=1, cstride=1)\n",
    "    ax.set_xlabel(\"x\")\n",
    "    ax.set_ylabel(\"y\")\n",
    "    ax.set_zlabel(\"u\")\n",
    "    plt.show()\n",
    "\n",
    "min_coord = vec2(-5, -5)\n",
    "max_coord = vec2(5, 5)\n",
    "\n",
    "grid = SimpleGrid2D(min_coord, max_coord, 200, 200)\n",
    "grid.eval_func( peaks )\n",
    "\n",
    "plo(grid)\n",
    "\n",
    "dt = 1\n",
    "for i in range(grid.I):\n",
    "    for j in range(grid.J):\n",
    "        \n",
    "        xt = vec2(grid.X[i,j], grid.Y[i,j])\n",
    "        u  = vec2(grid.Y[i,j], -grid.X[i,j])\n",
    "        \n",
    "        xt_prev = xt - dt * u\n",
    "        \n",
    "        phi = cpy.interpolate(xt_prev)\n",
    "\n",
    "        grid.values[i, j] = phi\n",
    "\n",
    "plo(grid)\n"
   ]
  },
  {
   "cell_type": "code",
   "execution_count": 68,
   "metadata": {},
   "outputs": [
    {
     "name": "stdout",
     "output_type": "stream",
     "text": [
      "[ 32  53  90 152 256]\n",
      "[0.03125    0.01858136 0.01104854 0.0065695  0.00390625]\n"
     ]
    }
   ],
   "source": [
    "I_values = np.logspace(5, 8, 5, base=2.0).astype(int)\n",
    "dt_values = np.logspace(-5, -8, 5, base=2.0)\n",
    "\n",
    "print(I_values)\n",
    "print(dt_values)"
   ]
  },
  {
   "cell_type": "code",
   "execution_count": null,
   "metadata": {},
   "outputs": [
    {
     "name": "stdout",
     "output_type": "stream",
     "text": [
      "Running on grid (I,J) = ( 32 32 ), total time =  6.283185307179586  and timestep dt =  0.03125\n",
      " error =  0.5444887252082855\n",
      "Running on grid (I,J) = ( 32 32 ), total time =  6.283185307179586  and timestep dt =  0.018581361171917516\n",
      " error =  0.5235397937583393\n",
      "Running on grid (I,J) = ( 32 32 ), total time =  6.283185307179586  and timestep dt =  0.011048543456039806\n",
      " error =  0.5122374119721775\n",
      "Running on grid (I,J) = ( 32 32 ), total time =  6.283185307179586  and timestep dt =  0.0065695032441696445\n",
      " error =  0.5057318419718292\n",
      "Running on grid (I,J) = ( 32 32 ), total time =  6.283185307179586  and timestep dt =  0.00390625\n",
      " error =  0.5019941648652095\n",
      "Running on grid (I,J) = ( 53 53 ), total time =  6.283185307179586  and timestep dt =  0.03125\n",
      " error =  0.46740974691170634\n",
      "Running on grid (I,J) = ( 53 53 ), total time =  6.283185307179586  and timestep dt =  0.018581361171917516\n",
      " error =  0.43554196528479794\n",
      "Running on grid (I,J) = ( 53 53 ), total time =  6.283185307179586  and timestep dt =  0.011048543456039806\n",
      " error =  0.4168536846672294\n",
      "Running on grid (I,J) = ( 53 53 ), total time =  6.283185307179586  and timestep dt =  0.0065695032441696445\n",
      " error =  0.40606752807380647\n",
      "Running on grid (I,J) = ( 53 53 ), total time =  6.283185307179586  and timestep dt =  0.00390625\n",
      " error =  0.39978643121341184\n",
      "Running on grid (I,J) = ( 90 90 ), total time =  6.283185307179586  and timestep dt =  0.03125\n",
      " error =  0.39246033492005505\n",
      "Running on grid (I,J) = ( 90 90 ), total time =  6.283185307179586  and timestep dt =  0.018581361171917516\n",
      " error =  0.36212672469599755\n",
      "Running on grid (I,J) = ( 90 90 ), total time =  6.283185307179586  and timestep dt =  0.011048543456039806\n",
      " error =  0.34248719726493376\n",
      "Running on grid (I,J) = ( 90 90 ), total time =  6.283185307179586  and timestep dt =  0.0065695032441696445\n",
      " error =  0.33041455081617876\n",
      "Running on grid (I,J) = ( 90 90 ), total time =  6.283185307179586  and timestep dt =  0.00390625\n",
      " error =  0.32313949547716986\n",
      "Running on grid (I,J) = ( 152 152 ), total time =  6.283185307179586  and timestep dt =  0.03125\n",
      " error =  0.29964258464689447\n",
      "Running on grid (I,J) = ( 152 152 ), total time =  6.283185307179586  and timestep dt =  0.018581361171917516\n",
      " error =  0.28339504433565205\n",
      "Running on grid (I,J) = ( 152 152 ), total time =  6.283185307179586  and timestep dt =  0.011048543456039806\n",
      " error =  0.26922594360505975\n",
      "Running on grid (I,J) = ( 152 152 ), total time =  6.283185307179586  and timestep dt =  0.0065695032441696445\n",
      " error =  0.25962120719523396\n",
      "Running on grid (I,J) = ( 152 152 ), total time =  6.283185307179586  and timestep dt =  0.00390625\n",
      " error =  0.25358044919127604\n",
      "Running on grid (I,J) = ( 256 256 ), total time =  6.283185307179586  and timestep dt =  0.03125\n"
     ]
    }
   ],
   "source": [
    "# I_values = [40, 80, 100, 120, 140] # start with a single value for a fast turn around, then later expand this\n",
    "# dt_values = [0.03, 0.02, 0.01, 0.005] # same here\n",
    "\n",
    "N = len(I_values)\n",
    "K = len(dt_values)\n",
    "\n",
    "error = np.zeros((N,K), dtype=np.float64)\n",
    "\n",
    "for n in range(N):\n",
    "    I = I_values[n]\n",
    "    J = I\n",
    "        \n",
    "    min_coord = vec2(-5, -5)\n",
    "    max_coord = vec2(5, 5)\n",
    "        \n",
    "    for k in range(K):\n",
    "        grid = SimpleGrid2D(min_coord, max_coord, I, J)\n",
    "        grid.eval_func( peaks )\n",
    "        dT = dt_values[k]\n",
    "        T = 2.0*np.pi\n",
    "        \n",
    "        print(\"Running on grid (I,J) = (\", I, J, \"), total time = \", T, \" and timestep dt = \", dT)\n",
    "    \n",
    "        merit_0 = np.sum(np.abs( grid.values.flatten() )) * grid.dx * grid.dy\n",
    "        \n",
    "        while T>0:\n",
    "            dt = np.min([dT, T])\n",
    "            cpy = make_copy(grid)\n",
    "            for i in range(grid.I):\n",
    "                for j in range(grid.J):\n",
    "                    xt = vec2(grid.X[i,j], grid.Y[i,j])\n",
    "                    u  = vec2(grid.Y[i,j], -grid.X[i,j])\n",
    "\n",
    "                    xt_prev = xt - dt * u\n",
    "\n",
    "                    phi = cpy.interpolate(xt_prev)\n",
    "\n",
    "                    grid.values[i, j] = phi\n",
    "\n",
    "            T = T - dt\n",
    "        \n",
    "        merit_T = np.sum(np.abs( grid.values.flatten() ))*grid.dx*grid.dy\n",
    "        error[n,k] = np.abs(merit_T - merit_0) / np.abs(merit_0)\n",
    "        \n",
    "        print(\" error = \", error[n,k])\n",
    "\n",
    "print(\"Done comparing numerical parameters\")"
   ]
  },
  {
   "cell_type": "markdown",
   "metadata": {},
   "source": [
    "Now we are ready to visualize the error. We expect the error to improve when spacing and time-step descreases."
   ]
  },
  {
   "cell_type": "code",
   "execution_count": 46,
   "metadata": {},
   "outputs": [
    {
     "name": "stderr",
     "output_type": "stream",
     "text": [
      "C:\\Users\\DKMEQ\\AppData\\Local\\Continuum\\anaconda3\\lib\\site-packages\\ipykernel_launcher.py:3: RuntimeWarning: More than 20 figures have been opened. Figures created through the pyplot interface (`matplotlib.pyplot.figure`) are retained until explicitly closed and may consume too much memory. (To control this warning, see the rcParam `figure.max_open_warning`).\n",
      "  This is separate from the ipykernel package so we can avoid doing imports until\n"
     ]
    },
    {
     "data": {
      "application/vnd.jupyter.widget-view+json": {
       "model_id": "9105fc5876c74623b0da373e763cb626",
       "version_major": 2,
       "version_minor": 0
      },
      "text/plain": [
       "Canvas(toolbar=Toolbar(toolitems=[('Home', 'Reset original view', 'home', 'home'), ('Back', 'Back to previous …"
      ]
     },
     "metadata": {},
     "output_type": "display_data"
    }
   ],
   "source": [
    "DT, DI = np.meshgrid(dt_values, I_values)\n",
    "\n",
    "fig = plt.figure()\n",
    "ax = fig.add_subplot(111, projection='3d')\n",
    "ax.plot_surface(DI, DT, error, cmap=\"magma\", color='0.75', rstride=1, cstride=1)\n",
    "ax.set_xlabel(\"#N\")\n",
    "ax.set_ylabel(\"dt\")\n",
    "ax.set_zlabel(\"error\")\n",
    "plt.show()\n"
   ]
  },
  {
   "cell_type": "markdown",
   "metadata": {},
   "source": [
    "# Signed Distance Fields\n",
    "Before we can start on the mean curvature assignment we are in need of a function that can compute a signed distance field.\n",
    "\n",
    "The next function takes a query point q as input and a closed polygon, poly, and computes the signed distance between q and poly. If the value is positive the q is outside the polygon if the value is negative then q is inside the polygon. The polygon is represented its N-corners and these are stored in an (N+1)-by-2 numpy array. First column is x-coordinates and second column is y-coordinates. The first and last row should be the same corner inorder to close the polygon.\n",
    "\n",
    "This function is convenient when evaluating a signed distance field on a grid."
   ]
  },
  {
   "cell_type": "code",
   "execution_count": 9,
   "metadata": {},
   "outputs": [],
   "source": [
    "def compute_signed_distance(poly, q):\n",
    "    \n",
    "    def is_left(p0, p1, p2):\n",
    "        return (p1[0] - p0[0]) * (p2[1] - p0[1]) - (p2[0] - p0[0]) * (p1[1] - p0[1])\n",
    "\n",
    "    N = poly.shape[0]\n",
    "    d = np.inf\n",
    "\n",
    "    # Compute distance to closest surface point\n",
    "    for i in range(N-1):\n",
    "        a = poly[i, :]    # Point on the surface of polygon p\n",
    "        b = poly[i+1, :]  # Adjacent point on the surface of polygon p\n",
    "        \n",
    "        ba = b - a     # Vector from a to b\n",
    "        bal = np.linalg.norm(ba) # Length of ba vector\n",
    "        if bal == 0:\n",
    "            continue\n",
    "        ban = ba / bal # Normal of the vector from a to b\n",
    "        qa = q - a     # The vector from the query point to a\n",
    "        alpha = np.dot(qa, ban) / bal\n",
    "        if alpha < 0:\n",
    "            da = np.linalg.norm(q-a)\n",
    "            if da < d:\n",
    "                d = da\n",
    "        elif alpha > 1:\n",
    "            db = np.linalg.norm(q-b)\n",
    "            if db < d:\n",
    "                d = db\n",
    "        else:\n",
    "            banp = np.array([-ban[1], ban[0]])\n",
    "            dp = abs(np.dot(qa, banp))\n",
    "            if dp < d:\n",
    "                d = dp\n",
    "    # Compute winding number to set the sign\n",
    "    wn = 0\n",
    "    for i in range(N-1):\n",
    "        a = poly[i, :]    # Point on the surface of polygon p\n",
    "        b = poly[i+1, :]  # Adjacent point on the surface of polygon p\n",
    "        if a[1] <= q[1]:\n",
    "            if b[1] > q[1]:\n",
    "                if is_left(a, b, q) > 0:\n",
    "                    wn = wn + 1\n",
    "        else:\n",
    "            if b[1] <= q[1]:\n",
    "                if is_left(a, b, q) < 0:\n",
    "                    wn = wn -1\n",
    "    if wn < -0.5:\n",
    "        d = -d\n",
    "    elif wn > 0.5:\n",
    "        d = -d\n",
    "    return d"
   ]
  },
  {
   "cell_type": "markdown",
   "metadata": {},
   "source": [
    "# Mean Curvature Flow\n",
    "The central part of the mean curvature flow assignment is to be able to evaluate the value of the mean curvature by using higher order finite difference approximations and dealing properly with boundary conditions and any numerical remedies that would be needed for stability.\n",
    "\n",
    "We have created a single function that takes a grid as input assuming this grid is holding a signed distance field and then the function computes the mean curvature field of the signed distance field.\n",
    "\n",
    "Your task is to write the function based on the lecture 12 slides."
   ]
  },
  {
   "cell_type": "code",
   "execution_count": 39,
   "metadata": {},
   "outputs": [],
   "source": [
    "# MEAN_CURVATURE_FLOW - Mean Curvature Flow\n",
    "# INPUT:\n",
    "#      grid - initial signed distance map\n",
    "# RESULT:\n",
    "#      kappa - the mean curvature field of the signed distance field\n",
    "def compute_mean_curvature(grid):\n",
    "    cpy = make_copy(grid)\n",
    "\n",
    "    for i in range(1, grid.I - 1):\n",
    "        for j in range(1, grid.J - 1):\n",
    "            \n",
    "            Dx = (grid.values[i + 1, j] - grid.values[i - 1, j]) / (2 * grid.dx)\n",
    "            Dy = (grid.values[i, j + 1] - grid.values[i, j - 1]) / (2 * grid.dy)\n",
    "            \n",
    "            Dxx = (grid.values[i + 1, j] - 2 * grid.values[i, j] + grid.values[i - 1, j]) / (grid.dx ** 2)\n",
    "            Dyy = (grid.values[i, j + 1] - 2 * grid.values[i, j] + grid.values[i, j - 1]) / (grid.dy ** 2)\n",
    "            Dxy = (grid.values[i + 1, j + 1] - grid.values[i + 1, j - 1] - grid.values[i - 1, j + 1] + grid.values[i - 1, j - 1]) / (4 * grid.dx * grid.dy)\n",
    "             \n",
    "            enum = (Dx ** 2) * Dyy + (Dy ** 2) * Dxx - 2 * Dxy * Dx * Dy \n",
    "            \n",
    "            g = np.sqrt(Dx ** 2 + Dy ** 2) \n",
    "            \n",
    "            if not g > 0.5:\n",
    "                g = 1\n",
    "            \n",
    "            cpy.values[i, j] = enum / ((g ** 3) + 0.0000001)\n",
    "        \n",
    "    for i in range(0, grid.I):\n",
    "        cpy.values[i, 0] = cpy.values[i, 1]\n",
    "        cpy.values[i, grid.J - 1] = cpy.values[i, grid.J - 2]\n",
    "\n",
    "    for j in range(0, grid.J):\n",
    "        cpy.values[0, j] = cpy.values[1, j]\n",
    "        cpy.values[grid.I - 1, j] = cpy.values[grid.I - 2, j]\n",
    "\n",
    "    kappa = cpy.values\n",
    "\n",
    "    return kappa"
   ]
  },
  {
   "cell_type": "markdown",
   "metadata": {},
   "source": [
    "To test our curvature field we must first create a grid instance that holds a signed distance field"
   ]
  },
  {
   "cell_type": "code",
   "execution_count": 40,
   "metadata": {},
   "outputs": [
    {
     "name": "stderr",
     "output_type": "stream",
     "text": [
      "C:\\Users\\DKMEQ\\AppData\\Local\\Continuum\\anaconda3\\lib\\site-packages\\ipykernel_launcher.py:2: RuntimeWarning: More than 20 figures have been opened. Figures created through the pyplot interface (`matplotlib.pyplot.figure`) are retained until explicitly closed and may consume too much memory. (To control this warning, see the rcParam `figure.max_open_warning`).\n",
      "  \n"
     ]
    },
    {
     "data": {
      "application/vnd.jupyter.widget-view+json": {
       "model_id": "d90353a1fa9f4bb6bf742db03c385b9d",
       "version_major": 2,
       "version_minor": 0
      },
      "text/plain": [
       "Canvas(toolbar=Toolbar(toolitems=[('Home', 'Reset original view', 'home', 'home'), ('Back', 'Back to previous …"
      ]
     },
     "metadata": {},
     "output_type": "display_data"
    }
   ],
   "source": [
    "poly = np.zeros((5,2),dtype=np.float64)\n",
    "poly[0,:] = vec2(-1,-1)\n",
    "poly[1,:] = vec2( 1,-1)\n",
    "poly[2,:] = vec2( 1, 1)\n",
    "poly[3,:] = vec2(-1, 1)\n",
    "poly[4,:] = vec2(-1,-1)\n",
    "        \n",
    "min_coord = vec2(-2, -2)\n",
    "max_coord = vec2(2, 2)\n",
    "    \n",
    "\n",
    "grid = SimpleGrid2D(min_coord, max_coord, 64, 64)\n",
    "grid.eval_func( lambda p: compute_signed_distance(poly,p) )\n",
    "\n",
    "show_grid(grid)"
   ]
  },
  {
   "cell_type": "markdown",
   "metadata": {},
   "source": [
    "In order to plot, let's save the curvature field we start with in another variable. We'll call it original. "
   ]
  },
  {
   "cell_type": "code",
   "execution_count": 41,
   "metadata": {},
   "outputs": [],
   "source": [
    "original = make_copy(grid)"
   ]
  },
  {
   "cell_type": "markdown",
   "metadata": {},
   "source": [
    "All pieces are now in place to setup the mean curvature flow main loop. This loop evolves the distance field using the mean curvature field as the speed function. Once we are done we plot contours of the original and the resulting distance fields to see the effect on the shape. "
   ]
  },
  {
   "cell_type": "code",
   "execution_count": 42,
   "metadata": {
    "scrolled": true
   },
   "outputs": [
    {
     "name": "stderr",
     "output_type": "stream",
     "text": [
      "C:\\Users\\DKMEQ\\AppData\\Local\\Continuum\\anaconda3\\lib\\site-packages\\ipykernel_launcher.py:2: RuntimeWarning: More than 20 figures have been opened. Figures created through the pyplot interface (`matplotlib.pyplot.figure`) are retained until explicitly closed and may consume too much memory. (To control this warning, see the rcParam `figure.max_open_warning`).\n",
      "  \n"
     ]
    },
    {
     "data": {
      "application/vnd.jupyter.widget-view+json": {
       "model_id": "3100209252664fdba155d4cb78ad2cd5",
       "version_major": 2,
       "version_minor": 0
      },
      "text/plain": [
       "Canvas(toolbar=Toolbar(toolitems=[('Home', 'Reset original view', 'home', 'home'), ('Back', 'Back to previous …"
      ]
     },
     "metadata": {},
     "output_type": "display_data"
    },
    {
     "name": "stdout",
     "output_type": "stream",
     "text": [
      "[[1.82658708 1.78242721 1.73961958 ... 1.73961958 1.78242721 1.82658708]\n",
      " [1.78242721 1.73679574 1.69247103 ... 1.69247103 1.73679574 1.78242721]\n",
      " [1.73961958 1.69247103 1.64659444 ... 1.64659444 1.69247103 1.73961958]\n",
      " ...\n",
      " [1.73961958 1.69247103 1.64659444 ... 1.64659444 1.69247103 1.73961958]\n",
      " [1.78242721 1.73679574 1.69247103 ... 1.69247103 1.73679574 1.78242721]\n",
      " [1.82658708 1.78242721 1.73961958 ... 1.73961958 1.78242721 1.82658708]]\n"
     ]
    },
    {
     "name": "stderr",
     "output_type": "stream",
     "text": [
      "C:\\Users\\DKMEQ\\AppData\\Local\\Continuum\\anaconda3\\lib\\site-packages\\ipykernel_launcher.py:12: RuntimeWarning: More than 20 figures have been opened. Figures created through the pyplot interface (`matplotlib.pyplot.figure`) are retained until explicitly closed and may consume too much memory. (To control this warning, see the rcParam `figure.max_open_warning`).\n",
      "  if sys.path[0] == '':\n"
     ]
    },
    {
     "data": {
      "application/vnd.jupyter.widget-view+json": {
       "model_id": "0dd1ceaba3d34815ad1e4ec3aef4f027",
       "version_major": 2,
       "version_minor": 0
      },
      "text/plain": [
       "Canvas(toolbar=Toolbar(toolitems=[('Home', 'Reset original view', 'home', 'home'), ('Back', 'Back to previous …"
      ]
     },
     "metadata": {},
     "output_type": "display_data"
    },
    {
     "name": "stderr",
     "output_type": "stream",
     "text": [
      "C:\\Users\\DKMEQ\\AppData\\Local\\Continuum\\anaconda3\\lib\\site-packages\\ipykernel_launcher.py:20: RuntimeWarning: More than 20 figures have been opened. Figures created through the pyplot interface (`matplotlib.pyplot.figure`) are retained until explicitly closed and may consume too much memory. (To control this warning, see the rcParam `figure.max_open_warning`).\n"
     ]
    },
    {
     "data": {
      "application/vnd.jupyter.widget-view+json": {
       "model_id": "f2203a7f45124d9c8b17ef37c95b81a1",
       "version_major": 2,
       "version_minor": 0
      },
      "text/plain": [
       "Canvas(toolbar=Toolbar(toolitems=[('Home', 'Reset original view', 'home', 'home'), ('Back', 'Back to previous …"
      ]
     },
     "metadata": {},
     "output_type": "display_data"
    }
   ],
   "source": [
    "T = 0.5\n",
    "dt = 0.001\n",
    "while T>0:\n",
    "    kappa = compute_mean_curvature(grid)\n",
    "    grid.values = grid.values + dt*kappa\n",
    "    T = T - dt\n",
    "    \n",
    "show_grid(grid)\n",
    "\n",
    "print(grid.values)\n",
    "\n",
    "fig = plt.figure()\n",
    "ax = fig.add_subplot(111)\n",
    "ax.set_title('Mean Curvature Field from Last Iteration')\n",
    "plt.imshow(kappa)\n",
    "ax.set_aspect('equal')\n",
    "ax.set_xlabel('i')\n",
    "ax.set_ylabel('j')\n",
    "\n",
    "fig = plt.figure()\n",
    "ax = fig.add_subplot(111)\n",
    "plt.contour(original.X, original.Y, original.values, [0.0], colors='r')\n",
    "plt.contour(grid.X, grid.Y, grid.values, [0.0], colors='b')\n",
    "ax.set_title('Countour comparison')\n",
    "ax.set_aspect('equal')\n",
    "ax.set_xlabel('x')\n",
    "ax.set_ylabel('y')\n",
    "plt.show()"
   ]
  },
  {
   "cell_type": "markdown",
   "metadata": {},
   "source": [
    "That's it folks!"
   ]
  }
 ],
 "metadata": {
  "kernelspec": {
   "display_name": "Python 3",
   "language": "python",
   "name": "python3"
  },
  "language_info": {
   "codemirror_mode": {
    "name": "ipython",
    "version": 3
   },
   "file_extension": ".py",
   "mimetype": "text/x-python",
   "name": "python",
   "nbconvert_exporter": "python",
   "pygments_lexer": "ipython3",
   "version": "3.7.4"
  }
 },
 "nbformat": 4,
 "nbformat_minor": 2
}

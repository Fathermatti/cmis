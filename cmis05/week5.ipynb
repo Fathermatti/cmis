{
 "cells": [
  {
   "cell_type": "markdown",
   "metadata": {},
   "source": [
    "# Computational Methods in Simulation (CMIS) Week 5\n",
    "This notebook is intended to help students make their hand-in in this week of CMIS.\n",
    "\n",
    "Hand-ins must be submitted as a maximum 3 page pdf file in Absalon and must be made using the ACM TOG overleaf latex template\n",
    "\n",
    "https://www.overleaf.com/latex/templates/association-for-computing-machinery-acm-large-2-column-format-template/qwcgpbmkkvpq\n",
    "\n",
    "Notebooks must be uploaded as well so teachers have code solutions accessible if needed."
   ]
  },
  {
   "cell_type": "markdown",
   "metadata": {},
   "source": [
    "This week is based on Slides 19\n",
    "\n",
    "* Make an implementation of the 2D elastic assembly process\n",
    "* Discuss from a computer science viewpoint which steps are the same and which steps that are different in the 2D elastic case compared to the 2D and 1D Poisson problems done in week 4.\n",
    "* Speculate how to write a general FEM computer program that could simulate any partial differential equation with point wise boundary conditions.\n",
    "* For the 2D elasticity problem, \n",
    "$\\int_{\\Omega^e}\\left(\\delta \\varepsilon\\right)^T\\sigma d\\Omega = \\int_{\\Gamma^e}\\left(\\delta u \\right)^T f dS $\n",
    "where $f$ is a given constant load (force per meter) use the FEM method to derive the $K_e$ and $f_e$ terms such that $K_e\\,u_e =f_e$\n",
    "* Based on your FEM derivation implement a rectangular solid 2D bar of dimension 6-by-2 meters and made of steel like material. Attach the left side of the bar to a wall (use boundary condition $u = 0$) and apply a downward nodal load on the right edge of the bar.    \n",
    "* Examine the eigenvalue spectrum of the global stiffness matrix before applying boundary conditions and after (Hint: write down how many zero eigenvalues you expect before and after applying boundary conditions and explain how the minimum eigenvalue is related to the boundary conditions after having applied these).\n",
    "* Examine the fill pattern of the stiffness matrix (Hint: reflect about the shape of the fill-in and how the non-zero values in $K$ is related to the mesh).\n",
    "* Investigate what happens to the deformations when you vary the resolution and load on the bar. Try to find the best suitable mesh resolution. (Hint: it is critical that you have the right formula for $f_e$ and do not use a “constant” load per node value, can you explain why?)\n",
    "* From everyday life steel material appears to be noticeable incompressible. Examine whether your implementation has volume (area in 2D) conservation (Hint: Explain the causes for your observations, consider carefully what could have “gone” wrong)."
   ]
  },
  {
   "cell_type": "markdown",
   "metadata": {},
   "source": [
    "## Detailed Expected Learning Objectives in this Week\n",
    "\n",
    "* Finite Element Method (FEM) Part 2 (Slides 15, 17, 18 and 19)\n",
    "    * Work with concepts such as tensors when deriving equations (such as stress and strain fields).\n",
    "    * Explain how principle of virtual work is related to weak form reformulations.\n",
    "    * Apply FEM to a more complex problem such as linear elasticity.\n",
    "    * Apply experimental validation to a FEM implementation of for instance linear elasticity."
   ]
  },
  {
   "cell_type": "code",
   "execution_count": 1,
   "metadata": {},
   "outputs": [],
   "source": [
    "%matplotlib widget"
   ]
  },
  {
   "cell_type": "code",
   "execution_count": 2,
   "metadata": {},
   "outputs": [],
   "source": [
    "import igl\n",
    "import meshplot as mp\n",
    "import numpy as np\n",
    "import matplotlib.pyplot as plt\n",
    "import wildmeshing as wm"
   ]
  },
  {
   "cell_type": "markdown",
   "metadata": {},
   "source": [
    "## Create the Computational Mesh\n",
    "We will re-use the beam mesh generator from week 3"
   ]
  },
  {
   "cell_type": "code",
   "execution_count": 3,
   "metadata": {},
   "outputs": [],
   "source": [
    "def make_beam_mesh(width, height, shape):\n",
    "    x0 = -width/2.0\n",
    "    y0 = -height/2.0\n",
    "    I  = shape[0]\n",
    "    J  = shape[1]\n",
    "    dx = width/float(I)\n",
    "    dy = height/float(J)\n",
    "    V = np.zeros(((I+1)*(J+1),2),dtype=np.float64)\n",
    "    for j in range(J+1):\n",
    "        for i in range(I+1):\n",
    "            k = i + j*(I+1)\n",
    "            V[k,0] = x0 + i*dx\n",
    "            V[k,1] = y0 + j*dy\n",
    "    T = np.zeros((2*I*J,3),dtype=np.int32)\n",
    "    for j in range(J):\n",
    "        for i in range(I):\n",
    "            k00 = (i  ) + (j  )*(I+1)\n",
    "            k01 = (i+1) + (j  )*(I+1)\n",
    "            k10 = (i  ) + (j+1)*(I+1)\n",
    "            k11 = (i+1) + (j+1)*(I+1)\n",
    "            e = 2*(i + j*I)\n",
    "            if (i+j)%2:\n",
    "                T[e,  :] = (k00,k01,k11)\n",
    "                T[e+1,:] = (k00,k11,k10)\n",
    "            else:\n",
    "                T[e,  :] = (k10,k00,k01)\n",
    "                T[e+1,:] = (k10,k01,k11)                    \n",
    "    return V, T\n",
    "\n",
    "V, T = make_beam_mesh(6.0,2.0,(12,6))"
   ]
  },
  {
   "cell_type": "markdown",
   "metadata": {},
   "source": [
    "\n",
    "We will also reuse the triangle area computation function we used in week 4"
   ]
  },
  {
   "cell_type": "code",
   "execution_count": 4,
   "metadata": {},
   "outputs": [
    {
     "data": {
      "application/vnd.jupyter.widget-view+json": {
       "model_id": "5cad363e962441ff88f25ab47745e566",
       "version_major": 2,
       "version_minor": 0
      },
      "text/plain": [
       "Canvas(toolbar=Toolbar(toolitems=[('Home', 'Reset original view', 'home', 'home'), ('Back', 'Back to previous …"
      ]
     },
     "metadata": {},
     "output_type": "display_data"
    }
   ],
   "source": [
    "\n",
    "fig = plt.figure()\n",
    "plt.triplot(V[:,0],V[:,1],T)\n",
    "plt.show()\n",
    "\n",
    "\n",
    "def compute_triangle_areas(V,T):\n",
    "    E = len(T) # Total number of triangles in the mesh\n",
    "    A = np.zeros((E,),dtype=np.float64)\n",
    "    for e in range(E):\n",
    "        # Get triangle indices\n",
    "        i = T[e,0]\n",
    "        j = T[e,1]\n",
    "        k = T[e,2]\n",
    "        # Get triangle coordinates\n",
    "        xi = V[i,0]\n",
    "        xj = V[j,0]\n",
    "        xk = V[k,0]\n",
    "        yi = V[i,1]\n",
    "        yj = V[j,1]\n",
    "        yk = V[k,1]    \n",
    "        \n",
    "        dx1 = xk - xj\n",
    "        dy1 = yk - yj\n",
    "        dx2 = xi - xj\n",
    "        dy2 = yi - yj\n",
    "\n",
    "        A[e] =  (dx1*dy2 - dx2*dy1 ) / 2.0\n",
    "    return A\n",
    "\n",
    "A = compute_triangle_areas(V,T)"
   ]
  },
  {
   "cell_type": "markdown",
   "metadata": {},
   "source": [
    "# Linear elasticity FEM Theory Summary\n",
    "\n",
    "The continous displacement field is given by interpolation of the discrete nodal displacement field\n",
    "\n",
    " $u(x) = N  U_e$\n",
    " \n",
    "This is a 2-by-1 where \n",
    "\n",
    "$N = [ w_1 I, w_2 I, w_3 I ]$\n",
    "\n",
    "This is 2-by-6 and\n",
    "\n",
    "$U_e = [Ux(T(k,:));  Uy(T(k,:))]$\n",
    "\n",
    "This is 6-by-one  and linear interpolation is used (bary-centric coordinates) \n",
    "\n",
    "   $w_1  =  area(x,2,3)  / A(k)$\n",
    "   \n",
    "   $w_2  =  area(3,1,x)  / A(k)$\n",
    "   \n",
    "   $w_3  =  area(x,1,2)  / A(k)$\n",
    "\n",
    "The Cauchy strain tensor is given by\n",
    "\n",
    "$\\varepsilon(x) = S \\, u(x) = S \\, N \\, U_e  = B \\, U_e$\n",
    "\n",
    "This is 3-by-1 where \n",
    "\n",
    "$B = S * N$\n",
    "\n",
    "This is 3-by-6 and the differential operator is defined as\n",
    "\n",
    "$S = \\begin{bmatrix}dx & 0\\\\ 0 & dy\\\\ dy & dx\\end{bmatrix}$\n",
    " \n",
    "This is 3-by-2. The Cauchy Stress tensor can by found by the equation of state (EOS)\n",
    "which defines a relation between stress and strain. For a neo-hookean\n",
    "material model this yields the relation\n",
    "\n",
    "$\\sigma =  D \\varepsilon$\n",
    "\n",
    "This is 3-by-1 where\n",
    "\n",
    "$D =  \\frac{E}{1-\\nu^2} \\begin{bmatrix} 1 & \\nu & 0\\\\\n",
    "                     \\nu &1 &0\\\\\n",
    "                      0 & 0 & \\frac{1-\\nu}{2}\\end{bmatrix}$\n",
    "\n",
    "This is 3-by-3. Now by using the virtual work one ends up with a linear system for the unknown nodal displacements\n",
    "\n",
    "$K_e U_e = F_e$\n",
    "\n",
    "where\n",
    "\n",
    "$K_e = B^T  D  B  A_e$\n",
    "\n",
    "This is 6-by-6. To assemble the element-wise equations into one large simultaneous system one applies Newton's third law at the nodes."
   ]
  },
  {
   "cell_type": "code",
   "execution_count": 5,
   "metadata": {},
   "outputs": [],
   "source": [
    "N = len(V) # Total number of nodes in the mesh\n",
    "E = len(T) # Total number of triangles in the mesh\n",
    "\n",
    "Ke = np.zeros((6,E*6), dtype=np.float64)\n",
    "K  = np.zeros( (N*2,N*2), dtype=np.float64)\n",
    "\n",
    "# Compute the D (elasticity) matrix\n",
    "#\n",
    "# http://en.wikipedia.org/wiki/Young%27s_modulus\n",
    "# http://en.wikipedia.org/wiki/Poisson%27s_ratio\n",
    "#\n",
    "# This is steel like parameters\n",
    "Ey  = 69e9  # Young modulus\n",
    "nu = 0.3    # Poisson ration\n",
    "\n",
    "# TODO - Compute the D (elasticity) matrix\n",
    "D  = np.array([\n",
    "    [1,  nu, 0],\n",
    "    [nu, 1,  0],\n",
    "    [0,  0,  (1-nu) / 2]\n",
    "]) * (Ey / (1 - nu ** 2))\n",
    "\n",
    "# Now compute element stiffness matrices\n",
    "for e in range(E):\n",
    "    # Get triangle indices\n",
    "    i = T[e,0]  \n",
    "    j = T[e,1]  \n",
    "    k = T[e,2]  \n",
    "    # Get triangle coordinates\n",
    "    xi = V[i,0]\n",
    "    xj = V[j,0]\n",
    "    xk = V[k,0]\n",
    "    yi = V[i,1]\n",
    "    yj = V[j,1]\n",
    "    yk = V[k,1]\n",
    "    \n",
    "    # TODO - Compute spatial gradients of the barycentric coordinates\n",
    "    Nix = -(yk - yj) / (2 * A[e])\n",
    "    Njx = -(yi - yk) / (2 * A[e])\n",
    "    Nkx = -(yj - yi) / (2 * A[e])\n",
    "    \n",
    "    Niy = (xk - xj) / (2 * A[e])\n",
    "    Njy = (xi - xk) / (2 * A[e])\n",
    "    Nky = (xj - xi) / (2 * A[e])\n",
    "    \n",
    "    # TODO - Compute the B matrix\n",
    "    B = np.array([\n",
    "        [Nix, 0,   Njx,   0, Nkx,   0],\n",
    "        [0,   Niy,   0, Njy,   0, Nky],\n",
    "        [Niy, Nix, Njy, Njx, Nky, Nkx]\n",
    "    ])\n",
    "    \n",
    "    # TODO - Compute element stiffness matrix and store it in Ke array\n",
    "    Ke[:, 6*e:6*e+6] = np.dot(np.dot(B.T, D), B) * A[e]\n",
    "    "
   ]
  },
  {
   "cell_type": "code",
   "execution_count": 6,
   "metadata": {},
   "outputs": [],
   "source": [
    "# Now do assembly process of global stiffness matrix\n",
    "for e in range(E):\n",
    "    # Get global triangle vertex indices\n",
    "    i = T[e,0]  \n",
    "    j = T[e,1]  \n",
    "    k = T[e,2]    \n",
    "    # Local order of vertex coordinates is i_x, i_y, j_x j_y, k_x, and  k_y. \n",
    "    # This is how local vertex indices (0,1,2,..,5) are mapped to global vertex\n",
    "    # indices\n",
    "    gidx = [ i, N + i, j,  N + j,  k, N + k]\n",
    "    # Now we can add the element stiffness matrix to the global matrix using\n",
    "    # our local-global vertex index mapping.\n",
    "    \n",
    "    ke = Ke[ :, (6*e):6*e+6 ]\n",
    "    \n",
    "    for m in range(6):\n",
    "        for n in range(6):\n",
    "            K[gidx[m], gidx[n]] = K[gidx[m], gidx[n]] + ke[m, n]\n",
    "            \n",
    "            "
   ]
  },
  {
   "cell_type": "markdown",
   "metadata": {},
   "source": [
    "We will visualize the assembly process"
   ]
  },
  {
   "cell_type": "code",
   "execution_count": 7,
   "metadata": {
    "scrolled": true
   },
   "outputs": [
    {
     "data": {
      "application/vnd.jupyter.widget-view+json": {
       "model_id": "a2f3d6f07b894547bd2aa30f05c9c7a8",
       "version_major": 2,
       "version_minor": 0
      },
      "text/plain": [
       "Canvas(toolbar=Toolbar(toolitems=[('Home', 'Reset original view', 'home', 'home'), ('Back', 'Back to previous …"
      ]
     },
     "metadata": {},
     "output_type": "display_data"
    },
    {
     "data": {
      "application/vnd.jupyter.widget-view+json": {
       "model_id": "4b45995ef7c3480d91bfc3ab667b2a29",
       "version_major": 2,
       "version_minor": 0
      },
      "text/plain": [
       "Canvas(toolbar=Toolbar(toolitems=[('Home', 'Reset original view', 'home', 'home'), ('Back', 'Back to previous …"
      ]
     },
     "metadata": {},
     "output_type": "display_data"
    },
    {
     "name": "stdout",
     "output_type": "stream",
     "text": [
      "[-7.09271742e-05  1.33987946e-05  6.80976406e-05  5.90463195e+08\n",
      "  2.26682988e+09  2.51500051e+09  5.91815427e+09  8.15644586e+09\n",
      "  8.36057066e+09  9.71393525e+09  1.05708337e+10  1.21134080e+10\n",
      "  1.23391248e+10  1.74370138e+10  1.84067755e+10  1.86566066e+10\n",
      "  1.92897567e+10  2.10418809e+10  2.19105372e+10  2.21714177e+10\n",
      "  2.47223045e+10  2.65191595e+10  2.73555895e+10  3.00426196e+10\n",
      "  3.05913863e+10  3.23083492e+10  3.46604456e+10  3.55136935e+10\n",
      "  3.55959173e+10  3.69913361e+10  4.06240182e+10  4.17645887e+10\n",
      "  4.18590728e+10  4.54415782e+10  4.80049235e+10  4.86000873e+10\n",
      "  4.88657138e+10  5.00657324e+10  5.14244482e+10  5.41439120e+10\n",
      "  5.55224983e+10  5.65381994e+10  5.67747251e+10  5.72925047e+10\n",
      "  5.96145873e+10  6.17556153e+10  6.27516310e+10  6.33923907e+10\n",
      "  6.37918803e+10  6.48784650e+10  6.58291247e+10  6.62405285e+10\n",
      "  6.90613207e+10  7.00413562e+10  7.10206536e+10  7.23921598e+10\n",
      "  7.39845563e+10  7.43868085e+10  8.22269334e+10  8.27111219e+10\n",
      "  8.45070834e+10  8.59805380e+10  8.77476484e+10  8.92044051e+10\n",
      "  9.47137469e+10  9.49714877e+10  9.62929816e+10  9.84911173e+10\n",
      "  9.95264053e+10  9.97053172e+10  1.01818839e+11  1.03342257e+11\n",
      "  1.03596933e+11  1.03941021e+11  1.08157133e+11  1.08921803e+11\n",
      "  1.09720316e+11  1.09987831e+11  1.11365777e+11  1.13345320e+11\n",
      "  1.15021145e+11  1.17790689e+11  1.18306374e+11  1.21526127e+11\n",
      "  1.22662373e+11  1.23948649e+11  1.25043762e+11  1.26136755e+11\n",
      "  1.26476128e+11  1.27728092e+11  1.28079187e+11  1.34935212e+11\n",
      "  1.41774280e+11  1.45093828e+11  1.49501351e+11  1.50222050e+11\n",
      "  1.55880163e+11  1.61955688e+11  1.66031991e+11  1.67961695e+11\n",
      "  1.68020485e+11  1.74517659e+11  1.76907350e+11  1.78139952e+11\n",
      "  1.79535990e+11  1.84711480e+11  1.85128859e+11  1.85898402e+11\n",
      "  1.86813374e+11  1.88755261e+11  1.90256025e+11  1.94228154e+11\n",
      "  1.97493419e+11  2.07050461e+11  2.07436047e+11  2.08896165e+11\n",
      "  2.15205741e+11  2.15895874e+11  2.15943891e+11  2.18090725e+11\n",
      "  2.19880652e+11  2.25297971e+11  2.25839121e+11  2.28885206e+11\n",
      "  2.30092218e+11  2.34288584e+11  2.34420730e+11  2.34819870e+11\n",
      "  2.35026672e+11  2.38858893e+11  2.39378311e+11  2.41025438e+11\n",
      "  2.46416500e+11  2.57658714e+11  2.58965260e+11  2.76181364e+11\n",
      "  2.77768140e+11  2.81196423e+11  2.83516974e+11  2.83620911e+11\n",
      "  2.85345066e+11  2.86495481e+11  2.88294265e+11  2.90775330e+11\n",
      "  2.96308735e+11  3.02162922e+11  3.05881725e+11  3.09889496e+11\n",
      "  3.11739131e+11  3.18941584e+11  3.19258707e+11  3.23334661e+11\n",
      "  3.24819127e+11  3.39533675e+11  3.43520437e+11  3.46971255e+11\n",
      "  3.48900315e+11  3.49550815e+11  3.50601469e+11  3.50793044e+11\n",
      "  3.71316087e+11  3.76915059e+11  3.85039362e+11  3.94475839e+11\n",
      "  4.04110909e+11  4.12171268e+11  4.21390571e+11  4.27581696e+11\n",
      "  4.32057213e+11  4.33816279e+11  4.34857285e+11  4.36267824e+11\n",
      "  4.37860847e+11  4.44138869e+11  4.52059949e+11  4.60949937e+11\n",
      "  4.70014909e+11  4.78939264e+11  4.86849587e+11  4.93405447e+11\n",
      "  4.98285396e+11  5.01284561e+11]\n"
     ]
    }
   ],
   "source": [
    "fig = plt.figure()\n",
    "ax = plt.subplot(111)\n",
    "plt.spy(K);\n",
    "ax.set_title('Fill pattern of K matrix');\n",
    "ax.set_ylabel('Row index');\n",
    "ax.set_xlabel('Column index');\n",
    "plt.show()\n",
    "\n",
    "fig = plt.figure()\n",
    "ax = plt.subplot(111)\n",
    "d, _ = np.linalg.eig(K)\n",
    "plt.plot(np.sort( d ) );\n",
    "ax.set_title('Eigenvalues of K matrix');\n",
    "ax.set_xlabel('Eigenvalue Index')\n",
    "ax.set_ylabel('Value');\n",
    "fig.set_figheight(5)\n",
    "plt.show()\n",
    "print(np.sort( d ))"
   ]
  },
  {
   "cell_type": "markdown",
   "metadata": {},
   "source": [
    "Create an  external nodal force vector with a prescribed load at the right hand side of the bar."
   ]
  },
  {
   "cell_type": "code",
   "execution_count": 8,
   "metadata": {},
   "outputs": [],
   "source": [
    "load = -10e7/2\n",
    "f = np.zeros((2*N,),dtype=np.float64)\n",
    "indices = np.array(np.where(V[:,0]>2.9),dtype=np.int).flatten() + N\n",
    "f[ indices ] =  load"
   ]
  },
  {
   "cell_type": "markdown",
   "metadata": {},
   "source": [
    "Apply Direchlet boundary conditions to displacement field for the left vertices."
   ]
  },
  {
   "cell_type": "code",
   "execution_count": 9,
   "metadata": {},
   "outputs": [],
   "source": [
    "xindices = np.array(np.where( V[:,0] < -2.9), dtype=np.int).flatten()\n",
    "yindices = xindices + N\n",
    "\n",
    "indices = np.hstack((xindices, yindices))\n",
    "values  = np.zeros(indices.shape,dtype=np.float64)\n",
    "\n",
    "F = np.setdiff1d(np.arange(2*N), indices)\n",
    "\n",
    "for i in range(len(indices)):\n",
    "    index = indices[i]\n",
    "    value = values[i]  \n",
    "  \n",
    "    # TODO - add boundary conditions here"
   ]
  },
  {
   "cell_type": "markdown",
   "metadata": {},
   "source": [
    "After having applied the boundary conditions we can now solve for the displacement field"
   ]
  },
  {
   "cell_type": "code",
   "execution_count": 10,
   "metadata": {},
   "outputs": [],
   "source": [
    "u = np.zeros(f.shape, dtype=np.float64)\n",
    "u[indices] = values\n",
    "KFF = K[F,:][:,F]\n",
    "fF  = f[F]\n",
    "u[F] = np.linalg.solve(KFF, fF)"
   ]
  },
  {
   "cell_type": "markdown",
   "metadata": {},
   "source": [
    "From displacements we can compute the spatial deformed coordinates and visualize the deformed mesh."
   ]
  },
  {
   "cell_type": "code",
   "execution_count": 11,
   "metadata": {},
   "outputs": [
    {
     "data": {
      "application/vnd.jupyter.widget-view+json": {
       "model_id": "2a38ca9fccc3406392bccedd342dbf05",
       "version_major": 2,
       "version_minor": 0
      },
      "text/plain": [
       "Canvas(toolbar=Toolbar(toolitems=[('Home', 'Reset original view', 'home', 'home'), ('Back', 'Back to previous …"
      ]
     },
     "metadata": {},
     "output_type": "display_data"
    }
   ],
   "source": [
    "x = V[:,0] + u[0:N]\n",
    "y = V[:,1] + u[N:2*N]\n",
    "\n",
    "fig = plt.figure()\n",
    "plt.triplot(V[:,0],V[:,1],T)\n",
    "plt.triplot(x,y,T)\n",
    "plt.show()"
   ]
  },
  {
   "cell_type": "markdown",
   "metadata": {},
   "source": [
    "That is all folks"
   ]
  },
  {
   "cell_type": "code",
   "execution_count": 12,
   "metadata": {},
   "outputs": [
    {
     "data": {
      "application/vnd.jupyter.widget-view+json": {
       "model_id": "68c730ee9c67447bb22a482185c10260",
       "version_major": 2,
       "version_minor": 0
      },
      "text/plain": [
       "Canvas(toolbar=Toolbar(toolitems=[('Home', 'Reset original view', 'home', 'home'), ('Back', 'Back to previous …"
      ]
     },
     "metadata": {},
     "output_type": "display_data"
    }
   ],
   "source": [
    "load = -10e7\n",
    "f = np.zeros((2*N,),dtype=np.float64)\n",
    "indices = np.array(np.where(V[:,1]<0.9),dtype=np.int).flatten() + N\n",
    "f[ indices ] =  load\n",
    "\n",
    "xindices = np.array(np.append(np.where(V[:,0] < -2.9), np.where( V[:,0] > 2.9)), dtype=np.int).flatten()\n",
    "yindices = xindices + N\n",
    "\n",
    "indices = np.hstack((xindices, yindices))\n",
    "values  = np.zeros(indices.shape,dtype=np.float64)\n",
    "\n",
    "F = np.setdiff1d(np.arange(2*N), indices)\n",
    "\n",
    "for i in range(len(indices)):\n",
    "    index = indices[i]\n",
    "    value = values[i]  \n",
    "    \n",
    "u = np.zeros(f.shape, dtype=np.float64)\n",
    "u[indices] = values\n",
    "KFF = K[F,:][:,F]\n",
    "fF  = f[F]\n",
    "u[F] = np.linalg.solve(KFF, fF)\n",
    "x = V[:,0] + u[0:N]\n",
    "y = V[:,1] + u[N:2*N]\n",
    "\n",
    "fig = plt.figure()\n",
    "plt.triplot(V[:,0],V[:,1],T)\n",
    "plt.triplot(x,y,T)\n",
    "plt.show()"
   ]
  },
  {
   "cell_type": "code",
   "execution_count": 13,
   "metadata": {},
   "outputs": [
    {
     "data": {
      "application/vnd.jupyter.widget-view+json": {
       "model_id": "43844a72c82e4fa89ad801fecfeb890c",
       "version_major": 2,
       "version_minor": 0
      },
      "text/plain": [
       "Canvas(toolbar=Toolbar(toolitems=[('Home', 'Reset original view', 'home', 'home'), ('Back', 'Back to previous …"
      ]
     },
     "metadata": {},
     "output_type": "display_data"
    }
   ],
   "source": [
    "load = +10e8\n",
    "f = np.zeros((2*N,),dtype=np.float64)\n",
    "indices = np.array(np.where(V[:,0]>0.9),dtype=np.int).flatten()\n",
    "f[ indices ] =  load\n",
    "\n",
    "xindices = np.array(np.where( V[:,0] < -2.9), dtype=np.int).flatten()\n",
    "yindices = xindices + N\n",
    "\n",
    "indices = np.hstack((xindices, yindices))\n",
    "values  = np.zeros(indices.shape,dtype=np.float64)\n",
    "\n",
    "F = np.setdiff1d(np.arange(2*N), indices)\n",
    "\n",
    "for i in range(len(indices)):\n",
    "    index = indices[i]\n",
    "    value = values[i] \n",
    "    \n",
    "u = np.zeros(f.shape, dtype=np.float64)\n",
    "u[indices] = values\n",
    "\n",
    "KFF = K[F,:][:,F]\n",
    "fF  = f[F]\n",
    "u[F] = np.linalg.solve(KFF, fF)\n",
    "x = V[:,0] + u[0:N]\n",
    "y = V[:,1] + u[N:2*N]\n",
    "\n",
    "fig = plt.figure()\n",
    "plt.triplot(V[:,0],V[:,1],T)\n",
    "plt.triplot(x,y,T)\n",
    "plt.show()"
   ]
  },
  {
   "cell_type": "code",
   "execution_count": 14,
   "metadata": {},
   "outputs": [
    {
     "name": "stdout",
     "output_type": "stream",
     "text": [
      "True\n"
     ]
    },
    {
     "data": {
      "application/vnd.jupyter.widget-view+json": {
       "model_id": "7536845963324ee59a5ba33f1dc53080",
       "version_major": 2,
       "version_minor": 0
      },
      "text/plain": [
       "Canvas(toolbar=Toolbar(toolitems=[('Home', 'Reset original view', 'home', 'home'), ('Back', 'Back to previous …"
      ]
     },
     "metadata": {},
     "output_type": "display_data"
    }
   ],
   "source": [
    "def make_circle_mesh(radius, segments):\n",
    "    K = segments\n",
    "    X = np.array([ radius*np.cos(2*np.pi*k/K) for k in range(K)])\n",
    "    Y = np.array([ radius*np.sin(2*np.pi*k/K) for k in range(K)])\n",
    "    P = np.zeros((K,2))\n",
    "    P[:,0] = X\n",
    "    P[:,1] = Y\n",
    "    L = np.array([(k,(k+1)%K) for k in range(K)],dtype=np.int32)\n",
    "    \n",
    "    V, T, _, _ = wm.triangulate_data(P, L, cut_outside=True)\n",
    "    return (V, T)\n",
    "\n",
    "V, T = make_circle_mesh(1, 36)\n",
    "A = compute_triangle_areas(V,T)\n",
    "\n",
    "N = len(V) # Total number of nodes in the mesh\n",
    "E = len(T) # Total number of triangles in the mesh\n",
    "\n",
    "Ke = np.zeros((6,E*6), dtype=np.float64)\n",
    "K  = np.zeros( (N*2,N*2), dtype=np.float64)\n",
    "\n",
    "# Compute the D (elasticity) matrix\n",
    "#\n",
    "# \n",
    "\n",
    "# http://en.wikipedia.org/wiki/Poisson%27s_ratio\n",
    "#\n",
    "# This is steel like parameters\n",
    "Ey  = 69e9  # Young modulus\n",
    "nu = 0.3    # Poisson ration\n",
    "\n",
    "# TODO - Compute the D (elasticity) matrix\n",
    "D  = np.array([\n",
    "    [1,  nu, 0],\n",
    "    [nu, 1,  0],\n",
    "    [0,  0,  (1-nu) / 2]\n",
    "]) * (Ey / (1 - nu ** 2))\n",
    "\n",
    "# Now compute element stiffness matrices\n",
    "for e in range(E):\n",
    "    # Get triangle indices\n",
    "    i = T[e,0]  \n",
    "    j = T[e,1]  \n",
    "    k = T[e,2]  \n",
    "    # Get triangle coordinates\n",
    "    xi = V[i,0]\n",
    "    xj = V[j,0]\n",
    "    xk = V[k,0]\n",
    "    yi = V[i,1]\n",
    "    yj = V[j,1]\n",
    "    yk = V[k,1]\n",
    "    \n",
    "    # TODO - Compute spatial gradients of the barycentric coordinates\n",
    "    Nix = -(yk - yj) / (2 * A[e])\n",
    "    Njx = -(yi - yk) / (2 * A[e])\n",
    "    Nkx = -(yj - yi) / (2 * A[e])\n",
    "    \n",
    "    Niy = (xk - xj) / (2 * A[e])\n",
    "    Njy = (xi - xk) / (2 * A[e])\n",
    "    Nky = (xj - xi) / (2 * A[e])\n",
    "    \n",
    "    # TODO - Compute the B matrix\n",
    "    B = np.array([\n",
    "        [Nix, 0,   Njx,   0, Nkx,   0],\n",
    "        [0,   Niy,   0, Njy,   0, Nky],\n",
    "        [Niy, Nix, Njy, Njx, Nky, Nkx]\n",
    "    ])\n",
    "    \n",
    "    # TODO - Compute element stiffness matrix and store it in Ke array\n",
    "    Ke[:, 6*e:6*e+6] = np.dot(np.dot(B.T, D), B) * A[e]\n",
    "    \n",
    "# Now do assembly process of global stiffness matrix\n",
    "for e in range(E):\n",
    "    # Get global triangle vertex indices\n",
    "    i = T[e,0]  \n",
    "    j = T[e,1]  \n",
    "    k = T[e,2]    \n",
    "    # Local order of vertex coordinates is i_x, i_y, j_x j_y, k_x, and  k_y. \n",
    "    # This is how local vertex indices (0,1,2,..,5) are mapped to global vertex\n",
    "    # indices\n",
    "    gidx = [ i, N + i, j,  N + j,  k, N + k]\n",
    "    \n",
    "    # Now we can add the element stiffness matrix to the global matrix using\n",
    "    # our local-global vertex index mapping.\n",
    "    ke = Ke[ :, (6*e):6*e+6 ]\n",
    "    \n",
    "    for m in range(6):\n",
    "        for n in range(6):\n",
    "            K[gidx[m], gidx[n]] = K[gidx[m], gidx[n]] + ke[m, n]\n",
    "            \n",
    "indices = np.array(np.where(V[:,1]>0.7),dtype=np.int).flatten() + N\n",
    "\n",
    "def doit(load):\n",
    "    f = np.zeros((2*N,),dtype=np.float64)\n",
    "                \n",
    "    indices = np.array(np.where(V[:,1]>0.7),dtype=np.int).flatten() + N\n",
    "\n",
    "    f[ indices ] =  load\n",
    "\n",
    "    xindices = np.array(np.where( V[:,1] < -0.7), dtype=np.int).flatten()\n",
    "    yindices = xindices + N\n",
    "    indices = np.hstack((xindices, yindices))\n",
    "    values  = np.zeros(indices.shape,dtype=np.float64)\n",
    "\n",
    "    F = np.setdiff1d(np.arange(2*N), indices)\n",
    "\n",
    "    for i in range(len(indices)):\n",
    "        index = indices[i]\n",
    "        value = values[i]  \n",
    "\n",
    "    u = np.zeros(f.shape, dtype=np.float64)\n",
    "    u[indices] = values\n",
    "\n",
    "    KFF = K[F,:][:,F]\n",
    "    fF  = f[F]\n",
    "    u[F] = np.linalg.solve(KFF, fF)\n",
    "    \n",
    "    return u\n",
    "\n",
    "u = doit(-10*10 ** 8.999)\n",
    "\n",
    "x = V[:,0] + u[0:N]\n",
    "y = V[:,1] + u[N:2*N]\n",
    "\n",
    "print(np.any(np.array(list(map(lambda x: x < 0,  y[indices - N]))).flatten()))\n",
    "\n",
    "fig = plt.figure()\n",
    "plt.triplot(V[:,0],V[:,1],T)\n",
    "plt.triplot(x,y,T)\n",
    "plt.show()"
   ]
  },
  {
   "cell_type": "code",
   "execution_count": null,
   "metadata": {},
   "outputs": [],
   "source": []
  }
 ],
 "metadata": {
  "kernelspec": {
   "display_name": "Python 3",
   "language": "python",
   "name": "python3"
  },
  "language_info": {
   "codemirror_mode": {
    "name": "ipython",
    "version": 3
   },
   "file_extension": ".py",
   "mimetype": "text/x-python",
   "name": "python",
   "nbconvert_exporter": "python",
   "pygments_lexer": "ipython3",
   "version": "3.7.4"
  }
 },
 "nbformat": 4,
 "nbformat_minor": 2
}
